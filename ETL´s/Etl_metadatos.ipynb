{
 "cells": [
  {
   "cell_type": "code",
   "execution_count": 40,
   "metadata": {},
   "outputs": [],
   "source": [
    "import pandas as pd\n",
    "import os\n",
    "import json"
   ]
  },
  {
   "cell_type": "code",
   "execution_count": 4,
   "metadata": {},
   "outputs": [],
   "source": [
    "#leemos el primer archivo para obtener el tamaño de las tablas con numero de filas\n",
    "ruta_sitio1 = r'Google Maps\\metadata-sitios\\1.json'"
   ]
  },
  {
   "cell_type": "code",
   "execution_count": 5,
   "metadata": {},
   "outputs": [],
   "source": [
    "datos_sitio1 = []\n",
    "with open(ruta_sitio1, 'r') as sitio_1:\n",
    "    for linea in sitio_1:\n",
    "        objeto_json = json.loads(linea)\n",
    "        datos_sitio1.append(objeto_json)\n",
    "\n",
    "df_sitio1 = pd.DataFrame(datos_sitio1)"
   ]
  },
  {
   "cell_type": "code",
   "execution_count": 25,
   "metadata": {},
   "outputs": [
    {
     "data": {
      "text/html": [
       "<div>\n",
       "<style scoped>\n",
       "    .dataframe tbody tr th:only-of-type {\n",
       "        vertical-align: middle;\n",
       "    }\n",
       "\n",
       "    .dataframe tbody tr th {\n",
       "        vertical-align: top;\n",
       "    }\n",
       "\n",
       "    .dataframe thead th {\n",
       "        text-align: right;\n",
       "    }\n",
       "</style>\n",
       "<table border=\"1\" class=\"dataframe\">\n",
       "  <thead>\n",
       "    <tr style=\"text-align: right;\">\n",
       "      <th></th>\n",
       "      <th>name</th>\n",
       "      <th>address</th>\n",
       "      <th>gmap_id</th>\n",
       "      <th>description</th>\n",
       "      <th>latitude</th>\n",
       "      <th>longitude</th>\n",
       "      <th>category</th>\n",
       "      <th>avg_rating</th>\n",
       "      <th>num_of_reviews</th>\n",
       "      <th>price</th>\n",
       "      <th>hours</th>\n",
       "      <th>MISC</th>\n",
       "      <th>state</th>\n",
       "      <th>relative_results</th>\n",
       "      <th>url</th>\n",
       "    </tr>\n",
       "  </thead>\n",
       "  <tbody>\n",
       "    <tr>\n",
       "      <th>0</th>\n",
       "      <td>Porter Pharmacy</td>\n",
       "      <td>Porter Pharmacy, 129 N Second St, Cochran, GA ...</td>\n",
       "      <td>0x88f16e41928ff687:0x883dad4fd048e8f8</td>\n",
       "      <td>None</td>\n",
       "      <td>32.388300</td>\n",
       "      <td>-83.357100</td>\n",
       "      <td>[Pharmacy]</td>\n",
       "      <td>4.9</td>\n",
       "      <td>16</td>\n",
       "      <td>None</td>\n",
       "      <td>[[Friday, 8AM–6PM], [Saturday, 8AM–12PM], [Sun...</td>\n",
       "      <td>{'Service options': ['In-store shopping', 'Sam...</td>\n",
       "      <td>Open ⋅ Closes 6PM</td>\n",
       "      <td>[0x88f16e41929435cf:0x5b2532a2885e9ef6, 0x88f1...</td>\n",
       "      <td>https://www.google.com/maps/place//data=!4m2!3...</td>\n",
       "    </tr>\n",
       "    <tr>\n",
       "      <th>1</th>\n",
       "      <td>City Textile</td>\n",
       "      <td>City Textile, 3001 E Pico Blvd, Los Angeles, C...</td>\n",
       "      <td>0x80c2c98c0e3c16fd:0x29ec8a728764fdf9</td>\n",
       "      <td>None</td>\n",
       "      <td>34.018891</td>\n",
       "      <td>-118.215290</td>\n",
       "      <td>[Textile exporter]</td>\n",
       "      <td>4.5</td>\n",
       "      <td>6</td>\n",
       "      <td>None</td>\n",
       "      <td>None</td>\n",
       "      <td>None</td>\n",
       "      <td>Open now</td>\n",
       "      <td>[0x80c2c624136ea88b:0xb0315367ed448771, 0x80c2...</td>\n",
       "      <td>https://www.google.com/maps/place//data=!4m2!3...</td>\n",
       "    </tr>\n",
       "    <tr>\n",
       "      <th>2</th>\n",
       "      <td>San Soo Dang</td>\n",
       "      <td>San Soo Dang, 761 S Vermont Ave, Los Angeles, ...</td>\n",
       "      <td>0x80c2c778e3b73d33:0xbdc58662a4a97d49</td>\n",
       "      <td>None</td>\n",
       "      <td>34.058092</td>\n",
       "      <td>-118.292130</td>\n",
       "      <td>[Korean restaurant]</td>\n",
       "      <td>4.4</td>\n",
       "      <td>18</td>\n",
       "      <td>None</td>\n",
       "      <td>[[Thursday, 6:30AM–6PM], [Friday, 6:30AM–6PM],...</td>\n",
       "      <td>{'Service options': ['Takeout', 'Dine-in', 'De...</td>\n",
       "      <td>Open ⋅ Closes 6PM</td>\n",
       "      <td>[0x80c2c78249aba68f:0x35bf16ce61be751d, 0x80c2...</td>\n",
       "      <td>https://www.google.com/maps/place//data=!4m2!3...</td>\n",
       "    </tr>\n",
       "    <tr>\n",
       "      <th>3</th>\n",
       "      <td>Nova Fabrics</td>\n",
       "      <td>Nova Fabrics, 2200 E 11th St, Los Angeles, CA ...</td>\n",
       "      <td>0x80c2c89923b27a41:0x32041559418d447</td>\n",
       "      <td>None</td>\n",
       "      <td>34.023669</td>\n",
       "      <td>-118.232930</td>\n",
       "      <td>[Fabric store]</td>\n",
       "      <td>3.3</td>\n",
       "      <td>6</td>\n",
       "      <td>None</td>\n",
       "      <td>[[Thursday, 9AM–5PM], [Friday, 9AM–5PM], [Satu...</td>\n",
       "      <td>{'Service options': ['In-store shopping'], 'Pa...</td>\n",
       "      <td>Open ⋅ Closes 5PM</td>\n",
       "      <td>[0x80c2c8811477253f:0x23a8a492df1918f7, 0x80c2...</td>\n",
       "      <td>https://www.google.com/maps/place//data=!4m2!3...</td>\n",
       "    </tr>\n",
       "    <tr>\n",
       "      <th>4</th>\n",
       "      <td>Nobel Textile Co</td>\n",
       "      <td>Nobel Textile Co, 719 E 9th St, Los Angeles, C...</td>\n",
       "      <td>0x80c2c632f933b073:0xc31785961fe826a6</td>\n",
       "      <td>None</td>\n",
       "      <td>34.036694</td>\n",
       "      <td>-118.249421</td>\n",
       "      <td>[Fabric store]</td>\n",
       "      <td>4.3</td>\n",
       "      <td>7</td>\n",
       "      <td>None</td>\n",
       "      <td>[[Thursday, 9AM–5PM], [Friday, 9AM–5PM], [Satu...</td>\n",
       "      <td>{'Service options': ['In-store pickup']}</td>\n",
       "      <td>Open ⋅ Closes 5PM</td>\n",
       "      <td>[0x80c2c62c496083d1:0xdefa11317fe870a1, 0x80c2...</td>\n",
       "      <td>https://www.google.com/maps/place//data=!4m2!3...</td>\n",
       "    </tr>\n",
       "    <tr>\n",
       "      <th>...</th>\n",
       "      <td>...</td>\n",
       "      <td>...</td>\n",
       "      <td>...</td>\n",
       "      <td>...</td>\n",
       "      <td>...</td>\n",
       "      <td>...</td>\n",
       "      <td>...</td>\n",
       "      <td>...</td>\n",
       "      <td>...</td>\n",
       "      <td>...</td>\n",
       "      <td>...</td>\n",
       "      <td>...</td>\n",
       "      <td>...</td>\n",
       "      <td>...</td>\n",
       "      <td>...</td>\n",
       "    </tr>\n",
       "    <tr>\n",
       "      <th>274996</th>\n",
       "      <td>Maven Realty</td>\n",
       "      <td>Maven Realty, 2180 McMillan Ave #71672, North ...</td>\n",
       "      <td>0x88fe64e7daceaaab:0x101c046dcadcc9c3</td>\n",
       "      <td>None</td>\n",
       "      <td>32.857737</td>\n",
       "      <td>-79.985839</td>\n",
       "      <td>[Real estate agency]</td>\n",
       "      <td>4.9</td>\n",
       "      <td>15</td>\n",
       "      <td>None</td>\n",
       "      <td>[[Saturday, Open 24 hours], [Sunday, Open 24 h...</td>\n",
       "      <td>None</td>\n",
       "      <td>Open 24 hours</td>\n",
       "      <td>[0x88fe657160ccc965:0xc675c849dc6d96ba, 0x88fe...</td>\n",
       "      <td>https://www.google.com/maps/place//data=!4m2!3...</td>\n",
       "    </tr>\n",
       "    <tr>\n",
       "      <th>274997</th>\n",
       "      <td>Stone Castle Fence</td>\n",
       "      <td>Stone Castle Fence, 124 Cypress Gardens Rd, Mo...</td>\n",
       "      <td>0x88fe59f4602c95fd:0x57e2b1904d9e6949</td>\n",
       "      <td>None</td>\n",
       "      <td>33.089951</td>\n",
       "      <td>-80.078021</td>\n",
       "      <td>[Fence contractor, Construction company, Contr...</td>\n",
       "      <td>4.0</td>\n",
       "      <td>18</td>\n",
       "      <td>None</td>\n",
       "      <td>[[Saturday, Closed], [Sunday, Closed], [Monday...</td>\n",
       "      <td>None</td>\n",
       "      <td>Closed ⋅ Opens 7AM Mon</td>\n",
       "      <td>[0x88fe8d1444299bbb:0x91daa2e82c59ea94, 0x88fe...</td>\n",
       "      <td>https://www.google.com/maps/place//data=!4m2!3...</td>\n",
       "    </tr>\n",
       "    <tr>\n",
       "      <th>274998</th>\n",
       "      <td>Health Insurance Solutions Team</td>\n",
       "      <td>Health Insurance Solutions Team, 6650 Rivers A...</td>\n",
       "      <td>0x88fe71f9617c15e1:0x89518c1d251706bf</td>\n",
       "      <td>None</td>\n",
       "      <td>32.918858</td>\n",
       "      <td>-80.027952</td>\n",
       "      <td>[Health insurance agency]</td>\n",
       "      <td>5.0</td>\n",
       "      <td>18</td>\n",
       "      <td>None</td>\n",
       "      <td>[[Saturday, Closed], [Sunday, Closed], [Monday...</td>\n",
       "      <td>{'Service options': ['Online appointments'], '...</td>\n",
       "      <td>Closed ⋅ Opens 8AM Mon</td>\n",
       "      <td>[0x88fe6fe45b8d3f15:0x41d4b940a40b246a, 0x88fe...</td>\n",
       "      <td>https://www.google.com/maps/place//data=!4m2!3...</td>\n",
       "    </tr>\n",
       "    <tr>\n",
       "      <th>274999</th>\n",
       "      <td>Bernard Building Center</td>\n",
       "      <td>Bernard Building Center, 27300 M-32, M-32, Hil...</td>\n",
       "      <td>0x4d34c7517d6e6e29:0x7fe553ee2f090cf0</td>\n",
       "      <td>None</td>\n",
       "      <td>45.056691</td>\n",
       "      <td>-83.894423</td>\n",
       "      <td>[Building materials store, Electrical supply s...</td>\n",
       "      <td>4.7</td>\n",
       "      <td>25</td>\n",
       "      <td>None</td>\n",
       "      <td>[[Saturday, 8AM–3PM], [Sunday, Closed], [Monda...</td>\n",
       "      <td>{'Service options': ['Curbside pickup', 'Deliv...</td>\n",
       "      <td>Closed ⋅ Opens 7:30AM Mon</td>\n",
       "      <td>[0x4d335f6408d395d9:0xc20dea80d4c100d8, 0x4d34...</td>\n",
       "      <td>https://www.google.com/maps/place//data=!4m2!3...</td>\n",
       "    </tr>\n",
       "    <tr>\n",
       "      <th>275000</th>\n",
       "      <td>HMR Motor Works and Auto Care</td>\n",
       "      <td>HMR Motor Works and Auto Care, Mio, MI 48647</td>\n",
       "      <td>0x88208f4360c053ab:0xe3d6883f19601a01</td>\n",
       "      <td>None</td>\n",
       "      <td>44.649195</td>\n",
       "      <td>-84.130324</td>\n",
       "      <td>[Auto repair shop]</td>\n",
       "      <td>4.4</td>\n",
       "      <td>13</td>\n",
       "      <td>None</td>\n",
       "      <td>[[Saturday, 9AM–5:30PM], [Sunday, Closed], [Mo...</td>\n",
       "      <td>{'Accessibility': ['Wheelchair accessible entr...</td>\n",
       "      <td>Open ⋅ Closes 5:30PM</td>\n",
       "      <td>[0x88208e43a516e3ab:0xbb20b293f8e97ab2, 0x8820...</td>\n",
       "      <td>https://www.google.com/maps/place//data=!4m2!3...</td>\n",
       "    </tr>\n",
       "  </tbody>\n",
       "</table>\n",
       "<p>275001 rows × 15 columns</p>\n",
       "</div>"
      ],
      "text/plain": [
       "                                   name   \n",
       "0                       Porter Pharmacy  \\\n",
       "1                          City Textile   \n",
       "2                          San Soo Dang   \n",
       "3                          Nova Fabrics   \n",
       "4                      Nobel Textile Co   \n",
       "...                                 ...   \n",
       "274996                     Maven Realty   \n",
       "274997               Stone Castle Fence   \n",
       "274998  Health Insurance Solutions Team   \n",
       "274999          Bernard Building Center   \n",
       "275000    HMR Motor Works and Auto Care   \n",
       "\n",
       "                                                  address   \n",
       "0       Porter Pharmacy, 129 N Second St, Cochran, GA ...  \\\n",
       "1       City Textile, 3001 E Pico Blvd, Los Angeles, C...   \n",
       "2       San Soo Dang, 761 S Vermont Ave, Los Angeles, ...   \n",
       "3       Nova Fabrics, 2200 E 11th St, Los Angeles, CA ...   \n",
       "4       Nobel Textile Co, 719 E 9th St, Los Angeles, C...   \n",
       "...                                                   ...   \n",
       "274996  Maven Realty, 2180 McMillan Ave #71672, North ...   \n",
       "274997  Stone Castle Fence, 124 Cypress Gardens Rd, Mo...   \n",
       "274998  Health Insurance Solutions Team, 6650 Rivers A...   \n",
       "274999  Bernard Building Center, 27300 M-32, M-32, Hil...   \n",
       "275000       HMR Motor Works and Auto Care, Mio, MI 48647   \n",
       "\n",
       "                                      gmap_id description   latitude   \n",
       "0       0x88f16e41928ff687:0x883dad4fd048e8f8        None  32.388300  \\\n",
       "1       0x80c2c98c0e3c16fd:0x29ec8a728764fdf9        None  34.018891   \n",
       "2       0x80c2c778e3b73d33:0xbdc58662a4a97d49        None  34.058092   \n",
       "3        0x80c2c89923b27a41:0x32041559418d447        None  34.023669   \n",
       "4       0x80c2c632f933b073:0xc31785961fe826a6        None  34.036694   \n",
       "...                                       ...         ...        ...   \n",
       "274996  0x88fe64e7daceaaab:0x101c046dcadcc9c3        None  32.857737   \n",
       "274997  0x88fe59f4602c95fd:0x57e2b1904d9e6949        None  33.089951   \n",
       "274998  0x88fe71f9617c15e1:0x89518c1d251706bf        None  32.918858   \n",
       "274999  0x4d34c7517d6e6e29:0x7fe553ee2f090cf0        None  45.056691   \n",
       "275000  0x88208f4360c053ab:0xe3d6883f19601a01        None  44.649195   \n",
       "\n",
       "         longitude                                           category   \n",
       "0       -83.357100                                         [Pharmacy]  \\\n",
       "1      -118.215290                                 [Textile exporter]   \n",
       "2      -118.292130                                [Korean restaurant]   \n",
       "3      -118.232930                                     [Fabric store]   \n",
       "4      -118.249421                                     [Fabric store]   \n",
       "...            ...                                                ...   \n",
       "274996  -79.985839                               [Real estate agency]   \n",
       "274997  -80.078021  [Fence contractor, Construction company, Contr...   \n",
       "274998  -80.027952                          [Health insurance agency]   \n",
       "274999  -83.894423  [Building materials store, Electrical supply s...   \n",
       "275000  -84.130324                                 [Auto repair shop]   \n",
       "\n",
       "        avg_rating  num_of_reviews price   \n",
       "0              4.9              16  None  \\\n",
       "1              4.5               6  None   \n",
       "2              4.4              18  None   \n",
       "3              3.3               6  None   \n",
       "4              4.3               7  None   \n",
       "...            ...             ...   ...   \n",
       "274996         4.9              15  None   \n",
       "274997         4.0              18  None   \n",
       "274998         5.0              18  None   \n",
       "274999         4.7              25  None   \n",
       "275000         4.4              13  None   \n",
       "\n",
       "                                                    hours   \n",
       "0       [[Friday, 8AM–6PM], [Saturday, 8AM–12PM], [Sun...  \\\n",
       "1                                                    None   \n",
       "2       [[Thursday, 6:30AM–6PM], [Friday, 6:30AM–6PM],...   \n",
       "3       [[Thursday, 9AM–5PM], [Friday, 9AM–5PM], [Satu...   \n",
       "4       [[Thursday, 9AM–5PM], [Friday, 9AM–5PM], [Satu...   \n",
       "...                                                   ...   \n",
       "274996  [[Saturday, Open 24 hours], [Sunday, Open 24 h...   \n",
       "274997  [[Saturday, Closed], [Sunday, Closed], [Monday...   \n",
       "274998  [[Saturday, Closed], [Sunday, Closed], [Monday...   \n",
       "274999  [[Saturday, 8AM–3PM], [Sunday, Closed], [Monda...   \n",
       "275000  [[Saturday, 9AM–5:30PM], [Sunday, Closed], [Mo...   \n",
       "\n",
       "                                                     MISC   \n",
       "0       {'Service options': ['In-store shopping', 'Sam...  \\\n",
       "1                                                    None   \n",
       "2       {'Service options': ['Takeout', 'Dine-in', 'De...   \n",
       "3       {'Service options': ['In-store shopping'], 'Pa...   \n",
       "4                {'Service options': ['In-store pickup']}   \n",
       "...                                                   ...   \n",
       "274996                                               None   \n",
       "274997                                               None   \n",
       "274998  {'Service options': ['Online appointments'], '...   \n",
       "274999  {'Service options': ['Curbside pickup', 'Deliv...   \n",
       "275000  {'Accessibility': ['Wheelchair accessible entr...   \n",
       "\n",
       "                            state   \n",
       "0               Open ⋅ Closes 6PM  \\\n",
       "1                        Open now   \n",
       "2               Open ⋅ Closes 6PM   \n",
       "3               Open ⋅ Closes 5PM   \n",
       "4               Open ⋅ Closes 5PM   \n",
       "...                           ...   \n",
       "274996              Open 24 hours   \n",
       "274997     Closed ⋅ Opens 7AM Mon   \n",
       "274998     Closed ⋅ Opens 8AM Mon   \n",
       "274999  Closed ⋅ Opens 7:30AM Mon   \n",
       "275000       Open ⋅ Closes 5:30PM   \n",
       "\n",
       "                                         relative_results   \n",
       "0       [0x88f16e41929435cf:0x5b2532a2885e9ef6, 0x88f1...  \\\n",
       "1       [0x80c2c624136ea88b:0xb0315367ed448771, 0x80c2...   \n",
       "2       [0x80c2c78249aba68f:0x35bf16ce61be751d, 0x80c2...   \n",
       "3       [0x80c2c8811477253f:0x23a8a492df1918f7, 0x80c2...   \n",
       "4       [0x80c2c62c496083d1:0xdefa11317fe870a1, 0x80c2...   \n",
       "...                                                   ...   \n",
       "274996  [0x88fe657160ccc965:0xc675c849dc6d96ba, 0x88fe...   \n",
       "274997  [0x88fe8d1444299bbb:0x91daa2e82c59ea94, 0x88fe...   \n",
       "274998  [0x88fe6fe45b8d3f15:0x41d4b940a40b246a, 0x88fe...   \n",
       "274999  [0x4d335f6408d395d9:0xc20dea80d4c100d8, 0x4d34...   \n",
       "275000  [0x88208e43a516e3ab:0xbb20b293f8e97ab2, 0x8820...   \n",
       "\n",
       "                                                      url  \n",
       "0       https://www.google.com/maps/place//data=!4m2!3...  \n",
       "1       https://www.google.com/maps/place//data=!4m2!3...  \n",
       "2       https://www.google.com/maps/place//data=!4m2!3...  \n",
       "3       https://www.google.com/maps/place//data=!4m2!3...  \n",
       "4       https://www.google.com/maps/place//data=!4m2!3...  \n",
       "...                                                   ...  \n",
       "274996  https://www.google.com/maps/place//data=!4m2!3...  \n",
       "274997  https://www.google.com/maps/place//data=!4m2!3...  \n",
       "274998  https://www.google.com/maps/place//data=!4m2!3...  \n",
       "274999  https://www.google.com/maps/place//data=!4m2!3...  \n",
       "275000  https://www.google.com/maps/place//data=!4m2!3...  \n",
       "\n",
       "[275001 rows x 15 columns]"
      ]
     },
     "execution_count": 25,
     "metadata": {},
     "output_type": "execute_result"
    }
   ],
   "source": [
    "df_sitio1"
   ]
  },
  {
   "cell_type": "code",
   "execution_count": 6,
   "metadata": {},
   "outputs": [],
   "source": [
    "#leemos el primer archivo para obtener el tamaño de las tablas con numero de filas\n",
    "ruta_sitio2 = r'Google Maps\\metadata-sitios\\2.json'"
   ]
  },
  {
   "cell_type": "code",
   "execution_count": 7,
   "metadata": {},
   "outputs": [],
   "source": [
    "datos_sitio2 = []\n",
    "with open(ruta_sitio2, 'r') as sitio_2:\n",
    "    for linea in sitio_2:\n",
    "        objeto_json = json.loads(linea)\n",
    "        datos_sitio2.append(objeto_json)\n",
    "\n",
    "df_sitio2 = pd.DataFrame(datos_sitio2)"
   ]
  },
  {
   "cell_type": "code",
   "execution_count": 10,
   "metadata": {},
   "outputs": [],
   "source": [
    "# Concatenar los DataFrames df1 y df2\n",
    "df_concat_sitioX = pd.concat([df_sitio1, df_sitio2], ignore_index=True)\n",
    "\n",
    "# Llenar los valores nulos con NaN\n",
    "df_concat_sitioX = df_concat_sitioX.fillna(pd.NA)"
   ]
  },
  {
   "cell_type": "code",
   "execution_count": 11,
   "metadata": {},
   "outputs": [],
   "source": [
    "# Asegurarse de que los nombres de las columnas estén en minúsculas (opcional)\n",
    "df_concat_sitioX.columns = df_concat_sitioX.columns.str.lower()"
   ]
  },
  {
   "cell_type": "code",
   "execution_count": 14,
   "metadata": {},
   "outputs": [],
   "source": [
    "# Convertir las columnas 'latitude' y 'longitude' a tipo float\n",
    "df_concat_sitioX['latitude'] = df_concat_sitioX['latitude'].astype(float)\n",
    "df_concat_sitioX['longitude'] = df_concat_sitioX['longitude'].astype(float)"
   ]
  },
  {
   "cell_type": "code",
   "execution_count": 16,
   "metadata": {},
   "outputs": [],
   "source": [
    "#  Antes de convertir, asegurémonos de que los valores sean adecuados\n",
    "df_concat_sitioX['price'] = df_concat_sitioX['price'].replace('None', None)  # Reemplaza 'None' por None (valor NaN)"
   ]
  },
  {
   "cell_type": "code",
   "execution_count": 17,
   "metadata": {},
   "outputs": [],
   "source": [
    "df_concat_sitioX['price'] = df_concat_sitioX['price'].str.replace(r'[^\\d.]', '', regex=True)  # Elimina caracteres no numéricos (excepto el punto decimal)"
   ]
  },
  {
   "cell_type": "code",
   "execution_count": 19,
   "metadata": {},
   "outputs": [],
   "source": [
    "df_concat_sitioX['price'] = pd.to_numeric(df_concat_sitioX['price'], errors='coerce')  # Convierte a tipo float con reemplazo de errores por NaN"
   ]
  },
  {
   "cell_type": "code",
   "execution_count": 21,
   "metadata": {},
   "outputs": [],
   "source": [
    "# Contar las filas con valores nulos en la columna 'gmap_id'\n",
    "filas_con_nulos_en_gmap_id = df_concat_sitioX['gmap_id'].isnull().sum()"
   ]
  },
  {
   "cell_type": "code",
   "execution_count": 23,
   "metadata": {},
   "outputs": [],
   "source": [
    "#leemos el tercer archivo \n",
    "ruta_sitio3 = r'Google Maps\\metadata-sitios\\3.json'"
   ]
  },
  {
   "cell_type": "code",
   "execution_count": 24,
   "metadata": {},
   "outputs": [],
   "source": [
    "datos_sitio3 = []\n",
    "with open(ruta_sitio3, 'r') as sitio_3:\n",
    "    for linea in sitio_3:\n",
    "        objeto_json = json.loads(linea)\n",
    "        datos_sitio3.append(objeto_json)\n",
    "\n",
    "df_sitio3 = pd.DataFrame(datos_sitio3)"
   ]
  },
  {
   "cell_type": "code",
   "execution_count": 25,
   "metadata": {},
   "outputs": [],
   "source": [
    "#leemos el tercer archivo \n",
    "ruta_sitio4 = r'Google Maps\\metadata-sitios\\4.json'"
   ]
  },
  {
   "cell_type": "code",
   "execution_count": 26,
   "metadata": {},
   "outputs": [],
   "source": [
    "datos_sitio4 = []\n",
    "with open(ruta_sitio4, 'r') as sitio_4:\n",
    "    for linea in sitio_4:\n",
    "        objeto_json = json.loads(linea)\n",
    "        datos_sitio4.append(objeto_json)\n",
    "\n",
    "df_sitio4 = pd.DataFrame(datos_sitio4)"
   ]
  },
  {
   "cell_type": "code",
   "execution_count": 27,
   "metadata": {},
   "outputs": [],
   "source": [
    "#leemos el tercer archivo \n",
    "ruta_sitio5 = r'Google Maps\\metadata-sitios\\5.json'"
   ]
  },
  {
   "cell_type": "code",
   "execution_count": 28,
   "metadata": {},
   "outputs": [],
   "source": [
    "datos_sitio5 = []\n",
    "with open(ruta_sitio5, 'r') as sitio_5:\n",
    "    for linea in sitio_5:\n",
    "        objeto_json = json.loads(linea)\n",
    "        datos_sitio5.append(objeto_json)\n",
    "\n",
    "df_sitio5 = pd.DataFrame(datos_sitio5)"
   ]
  },
  {
   "cell_type": "code",
   "execution_count": 29,
   "metadata": {},
   "outputs": [],
   "source": [
    "#Concatenamos df_contact_sitioX con df_sitio3, df_sitio4, df_sitio5\n",
    "df_concat_X1 = pd.concat([df_concat_sitioX,df_sitio3, df_sitio4,df_sitio5 ], ignore_index=True)"
   ]
  },
  {
   "cell_type": "code",
   "execution_count": 31,
   "metadata": {},
   "outputs": [],
   "source": [
    "# Asegurarse de que los nombres de las columnas estén en minúsculas (opcional)\n",
    "df_concat_X1.columns = df_concat_X1.columns.str.lower()"
   ]
  },
  {
   "cell_type": "code",
   "execution_count": 35,
   "metadata": {},
   "outputs": [],
   "source": [
    "# Convertir las columnas 'latitude' y 'longitude' a tipo float\n",
    "df_concat_X1['latitude'] = df_concat_X1['latitude'].astype(float)\n",
    "df_concat_X1['longitude'] = df_concat_X1['longitude'].astype(float)\n"
   ]
  },
  {
   "cell_type": "code",
   "execution_count": 36,
   "metadata": {},
   "outputs": [],
   "source": [
    "#  Antes de convertir, asegurémonos de que los valores sean adecuados\n",
    "df_concat_X1['price'] = df_concat_X1['price'].replace('None', None)  # Reemplaza 'None' por None (valor NaN)"
   ]
  },
  {
   "cell_type": "code",
   "execution_count": 37,
   "metadata": {},
   "outputs": [],
   "source": [
    "# Elimina caracteres no numéricos (excepto el punto decimal)\n",
    "df_concat_X1['price'] = df_concat_X1['price'].str.replace(r'[^\\d.]', '', regex=True)  "
   ]
  },
  {
   "cell_type": "code",
   "execution_count": 38,
   "metadata": {},
   "outputs": [],
   "source": [
    "# Convierte a tipo float con reemplazo de errores por NaN\n",
    "df_concat_X1['price'] = pd.to_numeric(df_concat_X1['price'], errors='coerce')  "
   ]
  },
  {
   "cell_type": "code",
   "execution_count": 39,
   "metadata": {},
   "outputs": [],
   "source": [
    "# Exportamos a un archivo .csv\n",
    "df_concat_X1.to_csv('Google Maps\\metadata-sitios\\df_concat_X1.csv', index=False)"
   ]
  },
  {
   "cell_type": "code",
   "execution_count": 42,
   "metadata": {},
   "outputs": [],
   "source": [
    "#leemos el archivo \n",
    "ruta_sitio6 = r'Google Maps\\metadata-sitios\\6.json'"
   ]
  },
  {
   "cell_type": "code",
   "execution_count": 43,
   "metadata": {},
   "outputs": [],
   "source": [
    "datos_sitio6 = []\n",
    "with open(ruta_sitio6, 'r') as sitio_6:\n",
    "    for linea in sitio_6:\n",
    "        objeto_json = json.loads(linea)\n",
    "        datos_sitio6.append(objeto_json)\n",
    "\n",
    "df_sitio6 = pd.DataFrame(datos_sitio6)"
   ]
  },
  {
   "cell_type": "code",
   "execution_count": 44,
   "metadata": {},
   "outputs": [],
   "source": [
    "#Establecemos la ruta del archivo \n",
    "ruta_sitio7 = r'Google Maps\\metadata-sitios\\7.json'"
   ]
  },
  {
   "cell_type": "code",
   "execution_count": 45,
   "metadata": {},
   "outputs": [],
   "source": [
    "datos_sitio7 = []\n",
    "with open(ruta_sitio7, 'r') as sitio_7:\n",
    "    for linea in sitio_7:\n",
    "        objeto_json = json.loads(linea)\n",
    "        datos_sitio7.append(objeto_json)\n",
    "\n",
    "df_sitio7 = pd.DataFrame(datos_sitio7)"
   ]
  },
  {
   "cell_type": "code",
   "execution_count": 53,
   "metadata": {},
   "outputs": [],
   "source": [
    "# Asegurarse de que los nombres de las columnas estén en minúsculas (opcional)\n",
    "df_sitio7.columns = df_concat_sitioX.columns.str.lower()"
   ]
  },
  {
   "cell_type": "code",
   "execution_count": 51,
   "metadata": {},
   "outputs": [],
   "source": [
    "# Convertir las columnas 'latitude' y 'longitude' a tipo float en Df_sitio_7\n",
    "df_sitio7['latitude'] = df_sitio7['latitude'].astype(float)\n",
    "df_sitio7['longitude'] = df_sitio7['longitude'].astype(float)"
   ]
  },
  {
   "cell_type": "code",
   "execution_count": 52,
   "metadata": {},
   "outputs": [],
   "source": [
    "#  Antes de convertir, asegurémonos de que los valores sean adecuados\n",
    "df_sitio7['price'] = df_sitio7['price'].replace('None', None)  # Reemplaza 'None' por None (valor NaN)\n",
    "\n",
    "df_sitio7['price'] = df_sitio7['price'].str.replace(r'[^\\d.]', '', regex=True)  # Elimina caracteres no numéricos (excepto el punto decimal)\n",
    "\n",
    "# Convierte a tipo float con reemplazo de errores por NaN\n",
    "df_sitio7['price'] = pd.to_numeric(df_sitio7['price'], errors='coerce')"
   ]
  },
  {
   "cell_type": "code",
   "execution_count": 54,
   "metadata": {},
   "outputs": [],
   "source": [
    "# Verificar si hay duplicados en la columna 'gmap_id'\n",
    "duplicados_gmap_id = df_sitio7.duplicated('gmap_id')\n",
    "\n",
    "# Obtener las filas que son duplicados en la columna 'gmap_id'\n",
    "filas_duplicadas = df_sitio7[duplicados_gmap_id]\n",
    "\n",
    "# Contar la cantidad de duplicados en la columna 'gmap_id'\n",
    "cantidad_duplicados = sum(duplicados_gmap_id)"
   ]
  },
  {
   "cell_type": "code",
   "execution_count": 57,
   "metadata": {},
   "outputs": [],
   "source": [
    "# Eliminar los duplicados en la columna 'gmap_id'\n",
    "df_sitio7_sin_duplicados = df_sitio7.drop_duplicates('gmap_id')"
   ]
  },
  {
   "cell_type": "code",
   "execution_count": 60,
   "metadata": {},
   "outputs": [],
   "source": [
    "# Exportamos a un archivo .csv\n",
    "df_sitio7.to_csv('Google Maps\\metadata-sitios\\df_sitio7.csv', index=False)"
   ]
  },
  {
   "cell_type": "code",
   "execution_count": 46,
   "metadata": {},
   "outputs": [],
   "source": [
    "#leemos el archivo \n",
    "ruta_sitio8 = r'Google Maps\\metadata-sitios\\8.json'"
   ]
  },
  {
   "cell_type": "code",
   "execution_count": 47,
   "metadata": {},
   "outputs": [],
   "source": [
    "datos_sitio8 = []\n",
    "with open(ruta_sitio8, 'r') as sitio_8:\n",
    "    for linea in sitio_8:\n",
    "        objeto_json = json.loads(linea)\n",
    "        datos_sitio8.append(objeto_json)\n",
    "\n",
    "df_sitio8 = pd.DataFrame(datos_sitio8)"
   ]
  },
  {
   "cell_type": "code",
   "execution_count": 59,
   "metadata": {},
   "outputs": [],
   "source": [
    "df_concat_X2= pd.concat([df_sitio6,df_sitio8], ignore_index=True)"
   ]
  },
  {
   "cell_type": "code",
   "execution_count": 61,
   "metadata": {},
   "outputs": [],
   "source": [
    "# . Convertir las columnas 'latitude' y 'longitude' a tipo float\n",
    "df_concat_X2['latitude'] = df_concat_X2['latitude'].astype(float)\n",
    "df_concat_X2['longitude'] = df_concat_X2['longitude'].astype(float)"
   ]
  },
  {
   "cell_type": "code",
   "execution_count": 62,
   "metadata": {},
   "outputs": [],
   "source": [
    "#Convertimos las columnas a minusculas todas\n",
    "df_concat_X2.columns = df_concat_X2.columns.str.lower()"
   ]
  },
  {
   "cell_type": "code",
   "execution_count": 63,
   "metadata": {},
   "outputs": [
    {
     "name": "stdout",
     "output_type": "stream",
     "text": [
      "name                     3\n",
      "address              12970\n",
      "gmap_id                  0\n",
      "description         494567\n",
      "latitude                 0\n",
      "longitude                0\n",
      "category              2625\n",
      "avg_rating               0\n",
      "num_of_reviews           0\n",
      "price               490653\n",
      "hours               136353\n",
      "misc                339335\n",
      "state               127987\n",
      "relative_results     50699\n",
      "url                      0\n",
      "misc                326747\n",
      "dtype: int64\n"
     ]
    }
   ],
   "source": [
    "# Contar la cantidad de valores nulos por columna\n",
    "valores_nulos_por_columna = df_concat_X2.isnull().sum()\n",
    "\n",
    "# Imprimir el resultado\n",
    "print(valores_nulos_por_columna)"
   ]
  },
  {
   "cell_type": "code",
   "execution_count": 64,
   "metadata": {},
   "outputs": [],
   "source": [
    "# Llenar los valores nulos con el valor 0\n",
    "df_concat_X2_lleno = df_concat_X2.fillna(0)"
   ]
  },
  {
   "cell_type": "code",
   "execution_count": 67,
   "metadata": {},
   "outputs": [],
   "source": [
    "#  Antes de convertir, asegurémonos de que los valores sean adecuados\n",
    "df_concat_X2['price'] = df_concat_X2['price'].replace('None', None)  # Reemplaza 'None' por None (valor NaN)\n",
    "\n",
    "df_concat_X2['price'] = df_concat_X2['price'].str.replace(r'[^\\d.]', '', regex=True)  # Elimina caracteres no numéricos (excepto el punto decimal)\n",
    "\n",
    "# Convierte a tipo float con reemplazo de errores por NaN\n",
    "df_concat_X2['price'] = pd.to_numeric(df_concat_X2['price'], errors='coerce')"
   ]
  },
  {
   "cell_type": "code",
   "execution_count": 71,
   "metadata": {},
   "outputs": [],
   "source": [
    "# Verificar si hay duplicados en la columna 'gmap_id'\n",
    "duplicados_gmap_id = df_concat_X2.duplicated('gmap_id')\n",
    "\n",
    "# Obtener las filas que son duplicados en la columna 'gmap_id'\n",
    "filas_duplicadas = df_concat_X2[duplicados_gmap_id]\n",
    "\n",
    "# Contar la cantidad de duplicados en la columna 'gmap_id'\n",
    "cantidad_duplicados = sum(duplicados_gmap_id)"
   ]
  },
  {
   "cell_type": "code",
   "execution_count": 72,
   "metadata": {},
   "outputs": [],
   "source": [
    "# Eliminar los duplicados en la columna 'gmap_id'\n",
    "df_sitio7_sin_duplicados = df_concat_X2.drop_duplicates('gmap_id')"
   ]
  },
  {
   "cell_type": "code",
   "execution_count": 73,
   "metadata": {},
   "outputs": [],
   "source": [
    "# Exportamos a un archivo .csv\n",
    "df_concat_X2.to_csv('Google Maps\\metadata-sitios\\df_concat_X2.csv', index=False)"
   ]
  }
 ],
 "metadata": {
  "kernelspec": {
   "display_name": "Python 3",
   "language": "python",
   "name": "python3"
  },
  "language_info": {
   "codemirror_mode": {
    "name": "ipython",
    "version": 3
   },
   "file_extension": ".py",
   "mimetype": "text/x-python",
   "name": "python",
   "nbconvert_exporter": "python",
   "pygments_lexer": "ipython3",
   "version": "3.11.4"
  },
  "orig_nbformat": 4
 },
 "nbformat": 4,
 "nbformat_minor": 2
}
