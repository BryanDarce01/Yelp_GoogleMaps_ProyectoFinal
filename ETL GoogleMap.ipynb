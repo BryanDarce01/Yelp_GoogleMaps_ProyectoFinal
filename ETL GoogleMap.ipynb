{
 "cells": [
  {
   "cell_type": "code",
   "execution_count": 6,
   "metadata": {},
   "outputs": [],
   "source": [
    "import pandas as pd\n",
    "import numpy as np\n",
    "import os\n",
    "import ast"
   ]
  },
  {
   "cell_type": "code",
   "execution_count": 7,
   "metadata": {},
   "outputs": [],
   "source": [
    "carpeta_json = 'C:\\\\Users\\\\gasty\\\\Desktop\\\\PF\\\\Google Maps\\\\Reviews-Estado\\\\review-California'\n",
    "carpeta_json2 = 'C:\\\\Users\\\\gasty\\\\Desktop\\\\PF\\\\Google Maps\\Reviews-Estado\\\\review-Florida'\n",
    "carpeta_json3 = 'C:\\\\Users\\\\gasty\\\\Desktop\\\\PF\\\\Google Maps\\Reviews-Estado\\\\review-Nevada'"
   ]
  },
  {
   "cell_type": "code",
   "execution_count": 8,
   "metadata": {},
   "outputs": [],
   "source": [
    "def Cartepas_Df(carpeta):\n",
    "    dataframes = []\n",
    "    for archivo in os.listdir(carpeta):\n",
    "        if archivo.endswith('.json'):\n",
    "            ruta_completa = os.path.join(carpeta, archivo)\n",
    "            try:\n",
    "                df = pd.read_json(ruta_completa, lines=True)\n",
    "                dataframes.append(df)\n",
    "            except Exception as e:\n",
    "                print(f\"Error al cargar el archivo {archivo}: {e}\")\n",
    "    df_final = pd.concat(dataframes, ignore_index=True)\n",
    "    return df_final"
   ]
  },
  {
   "cell_type": "code",
   "execution_count": 9,
   "metadata": {},
   "outputs": [],
   "source": [
    "California = Cartepas_Df(carpeta_json)"
   ]
  },
  {
   "cell_type": "code",
   "execution_count": 10,
   "metadata": {},
   "outputs": [],
   "source": [
    "Florida = Cartepas_Df(carpeta_json2)"
   ]
  },
  {
   "cell_type": "code",
   "execution_count": 11,
   "metadata": {},
   "outputs": [],
   "source": [
    "Nevada = Cartepas_Df(carpeta_json2)"
   ]
  },
  {
   "cell_type": "code",
   "execution_count": 12,
   "metadata": {},
   "outputs": [
    {
     "name": "stdout",
     "output_type": "stream",
     "text": [
      "(2700000, 8)\n"
     ]
    },
    {
     "data": {
      "text/html": [
       "<div>\n",
       "<style scoped>\n",
       "    .dataframe tbody tr th:only-of-type {\n",
       "        vertical-align: middle;\n",
       "    }\n",
       "\n",
       "    .dataframe tbody tr th {\n",
       "        vertical-align: top;\n",
       "    }\n",
       "\n",
       "    .dataframe thead th {\n",
       "        text-align: right;\n",
       "    }\n",
       "</style>\n",
       "<table border=\"1\" class=\"dataframe\">\n",
       "  <thead>\n",
       "    <tr style=\"text-align: right;\">\n",
       "      <th></th>\n",
       "      <th>user_id</th>\n",
       "      <th>name</th>\n",
       "      <th>time</th>\n",
       "      <th>rating</th>\n",
       "      <th>text</th>\n",
       "      <th>pics</th>\n",
       "      <th>resp</th>\n",
       "      <th>gmap_id</th>\n",
       "    </tr>\n",
       "  </thead>\n",
       "  <tbody>\n",
       "    <tr>\n",
       "      <th>0</th>\n",
       "      <td>1.089912e+20</td>\n",
       "      <td>Song Ro</td>\n",
       "      <td>1609909927056</td>\n",
       "      <td>5</td>\n",
       "      <td>Love there korean rice cake.</td>\n",
       "      <td>None</td>\n",
       "      <td>None</td>\n",
       "      <td>0x80c2c778e3b73d33:0xbdc58662a4a97d49</td>\n",
       "    </tr>\n",
       "    <tr>\n",
       "      <th>1</th>\n",
       "      <td>1.112903e+20</td>\n",
       "      <td>Rafa Robles</td>\n",
       "      <td>1612849648663</td>\n",
       "      <td>5</td>\n",
       "      <td>Good very good</td>\n",
       "      <td>None</td>\n",
       "      <td>None</td>\n",
       "      <td>0x80c2c778e3b73d33:0xbdc58662a4a97d49</td>\n",
       "    </tr>\n",
       "    <tr>\n",
       "      <th>2</th>\n",
       "      <td>1.126404e+20</td>\n",
       "      <td>David Han</td>\n",
       "      <td>1583643882296</td>\n",
       "      <td>4</td>\n",
       "      <td>They make Korean traditional food very properly.</td>\n",
       "      <td>None</td>\n",
       "      <td>None</td>\n",
       "      <td>0x80c2c778e3b73d33:0xbdc58662a4a97d49</td>\n",
       "    </tr>\n",
       "    <tr>\n",
       "      <th>3</th>\n",
       "      <td>1.174403e+20</td>\n",
       "      <td>Anthony Kim</td>\n",
       "      <td>1551938216355</td>\n",
       "      <td>5</td>\n",
       "      <td>Short ribs are very delicious.</td>\n",
       "      <td>None</td>\n",
       "      <td>None</td>\n",
       "      <td>0x80c2c778e3b73d33:0xbdc58662a4a97d49</td>\n",
       "    </tr>\n",
       "    <tr>\n",
       "      <th>4</th>\n",
       "      <td>1.005808e+20</td>\n",
       "      <td>Mario Marzouk</td>\n",
       "      <td>1494910901933</td>\n",
       "      <td>5</td>\n",
       "      <td>Great food and prices the portions are large</td>\n",
       "      <td>None</td>\n",
       "      <td>None</td>\n",
       "      <td>0x80c2c778e3b73d33:0xbdc58662a4a97d49</td>\n",
       "    </tr>\n",
       "  </tbody>\n",
       "</table>\n",
       "</div>"
      ],
      "text/plain": [
       "        user_id           name           time  rating  \\\n",
       "0  1.089912e+20        Song Ro  1609909927056       5   \n",
       "1  1.112903e+20    Rafa Robles  1612849648663       5   \n",
       "2  1.126404e+20      David Han  1583643882296       4   \n",
       "3  1.174403e+20    Anthony Kim  1551938216355       5   \n",
       "4  1.005808e+20  Mario Marzouk  1494910901933       5   \n",
       "\n",
       "                                               text  pics  resp  \\\n",
       "0                      Love there korean rice cake.  None  None   \n",
       "1                                    Good very good  None  None   \n",
       "2  They make Korean traditional food very properly.  None  None   \n",
       "3                    Short ribs are very delicious.  None  None   \n",
       "4      Great food and prices the portions are large  None  None   \n",
       "\n",
       "                                 gmap_id  \n",
       "0  0x80c2c778e3b73d33:0xbdc58662a4a97d49  \n",
       "1  0x80c2c778e3b73d33:0xbdc58662a4a97d49  \n",
       "2  0x80c2c778e3b73d33:0xbdc58662a4a97d49  \n",
       "3  0x80c2c778e3b73d33:0xbdc58662a4a97d49  \n",
       "4  0x80c2c778e3b73d33:0xbdc58662a4a97d49  "
      ]
     },
     "execution_count": 12,
     "metadata": {},
     "output_type": "execute_result"
    }
   ],
   "source": [
    "print(California.shape)\n",
    "California.head()"
   ]
  },
  {
   "cell_type": "code",
   "execution_count": 13,
   "metadata": {},
   "outputs": [
    {
     "name": "stdout",
     "output_type": "stream",
     "text": [
      "<class 'pandas.core.frame.DataFrame'>\n",
      "RangeIndex: 2700000 entries, 0 to 2699999\n",
      "Data columns (total 8 columns):\n",
      " #   Column   Dtype  \n",
      "---  ------   -----  \n",
      " 0   user_id  float64\n",
      " 1   name     object \n",
      " 2   time     int64  \n",
      " 3   rating   int64  \n",
      " 4   text     object \n",
      " 5   pics     object \n",
      " 6   resp     object \n",
      " 7   gmap_id  object \n",
      "dtypes: float64(1), int64(2), object(5)\n",
      "memory usage: 164.8+ MB\n"
     ]
    }
   ],
   "source": [
    "California.info()"
   ]
  },
  {
   "cell_type": "code",
   "execution_count": 14,
   "metadata": {},
   "outputs": [
    {
     "name": "stdout",
     "output_type": "stream",
     "text": [
      "            user_id          time        rating\n",
      "count  2.700000e+06  2.700000e+06  2.700000e+06\n",
      "mean   1.093547e+20  1.551464e+12  4.313987e+00\n",
      "std    5.239594e+18  4.648164e+10  1.124260e+00\n",
      "min    1.000000e+20  6.626016e+11  1.000000e+00\n",
      "25%    1.048907e+20  1.522967e+12  4.000000e+00\n",
      "50%    1.093188e+20  1.555199e+12  5.000000e+00\n",
      "75%    1.138802e+20  1.582251e+12  5.000000e+00\n",
      "max    1.184467e+20  1.631149e+12  5.000000e+00\n"
     ]
    }
   ],
   "source": [
    "print(California.describe())"
   ]
  },
  {
   "cell_type": "code",
   "execution_count": 15,
   "metadata": {},
   "outputs": [
    {
     "name": "stdout",
     "output_type": "stream",
     "text": [
      "user_id          0\n",
      "name             0\n",
      "time             0\n",
      "rating           0\n",
      "text       1170964\n",
      "pics       2600710\n",
      "resp       2454831\n",
      "gmap_id          0\n",
      "dtype: int64\n"
     ]
    }
   ],
   "source": [
    "print(California.isnull().sum())"
   ]
  },
  {
   "cell_type": "code",
   "execution_count": 16,
   "metadata": {},
   "outputs": [],
   "source": [
    "def get_diccionario(lista):\n",
    "    try:\n",
    "        return lista[0] if isinstance(lista, list) and len(lista) > 0 else None\n",
    "    except IndexError:\n",
    "        return None"
   ]
  },
  {
   "cell_type": "code",
   "execution_count": 17,
   "metadata": {},
   "outputs": [],
   "source": [
    "def extract_url_from_list(lst):\n",
    "    if isinstance(lst, list) and len(lst) > 0:\n",
    "        return lst[0]\n",
    "    return None"
   ]
  },
  {
   "cell_type": "code",
   "execution_count": 18,
   "metadata": {},
   "outputs": [],
   "source": [
    "California['pics'] = California['pics'].apply(get_diccionario)"
   ]
  },
  {
   "cell_type": "code",
   "execution_count": 19,
   "metadata": {},
   "outputs": [],
   "source": [
    "df_pics = pd.json_normalize(California['pics'])"
   ]
  },
  {
   "cell_type": "code",
   "execution_count": 20,
   "metadata": {},
   "outputs": [],
   "source": [
    "df_pics['url'] = df_pics['url'].apply(extract_url_from_list)"
   ]
  },
  {
   "cell_type": "code",
   "execution_count": 21,
   "metadata": {},
   "outputs": [],
   "source": [
    "California['pics']= df_pics['url']"
   ]
  },
  {
   "cell_type": "code",
   "execution_count": 22,
   "metadata": {},
   "outputs": [],
   "source": [
    "df_resp = pd.json_normalize(California['resp'])"
   ]
  },
  {
   "cell_type": "code",
   "execution_count": 23,
   "metadata": {},
   "outputs": [],
   "source": [
    "California['resp'] = df_resp['text']"
   ]
  },
  {
   "cell_type": "code",
   "execution_count": 24,
   "metadata": {},
   "outputs": [],
   "source": [
    "California['time'] = pd.to_datetime(California['time'], unit='ms')"
   ]
  },
  {
   "cell_type": "code",
   "execution_count": 25,
   "metadata": {},
   "outputs": [],
   "source": [
    "California['weekday'] = California['time'].dt.day_name()"
   ]
  },
  {
   "cell_type": "code",
   "execution_count": 26,
   "metadata": {},
   "outputs": [],
   "source": [
    "California['time'] = California['time'].dt.strftime('%Y-%m-%d %H:%M:%S')"
   ]
  },
  {
   "cell_type": "code",
   "execution_count": 27,
   "metadata": {},
   "outputs": [],
   "source": [
    "California['time'] = pd.to_datetime(California['time'])"
   ]
  },
  {
   "cell_type": "code",
   "execution_count": 28,
   "metadata": {},
   "outputs": [],
   "source": [
    "California[['gmap_id1', 'gmap_id2']] = California['gmap_id'].str.split(':', expand=True)"
   ]
  },
  {
   "cell_type": "code",
   "execution_count": 29,
   "metadata": {},
   "outputs": [],
   "source": [
    "California.drop(columns=['gmap_id',], inplace=True)"
   ]
  },
  {
   "cell_type": "code",
   "execution_count": 30,
   "metadata": {},
   "outputs": [],
   "source": [
    "California['text'] = California['text'].fillna('')\n",
    "California['pics'] = California['pics'].fillna('')\n",
    "California['resp'] = California['resp'].fillna('')"
   ]
  },
  {
   "cell_type": "code",
   "execution_count": 31,
   "metadata": {},
   "outputs": [
    {
     "data": {
      "text/html": [
       "<div>\n",
       "<style scoped>\n",
       "    .dataframe tbody tr th:only-of-type {\n",
       "        vertical-align: middle;\n",
       "    }\n",
       "\n",
       "    .dataframe tbody tr th {\n",
       "        vertical-align: top;\n",
       "    }\n",
       "\n",
       "    .dataframe thead th {\n",
       "        text-align: right;\n",
       "    }\n",
       "</style>\n",
       "<table border=\"1\" class=\"dataframe\">\n",
       "  <thead>\n",
       "    <tr style=\"text-align: right;\">\n",
       "      <th></th>\n",
       "      <th>user_id</th>\n",
       "      <th>name</th>\n",
       "      <th>time</th>\n",
       "      <th>rating</th>\n",
       "      <th>text</th>\n",
       "      <th>pics</th>\n",
       "      <th>resp</th>\n",
       "      <th>weekday</th>\n",
       "      <th>gmap_id1</th>\n",
       "      <th>gmap_id2</th>\n",
       "    </tr>\n",
       "  </thead>\n",
       "  <tbody>\n",
       "    <tr>\n",
       "      <th>0</th>\n",
       "      <td>1.089912e+20</td>\n",
       "      <td>Song Ro</td>\n",
       "      <td>2021-01-06 05:12:07</td>\n",
       "      <td>5</td>\n",
       "      <td>Love there korean rice cake.</td>\n",
       "      <td></td>\n",
       "      <td></td>\n",
       "      <td>Wednesday</td>\n",
       "      <td>0x80c2c778e3b73d33</td>\n",
       "      <td>0xbdc58662a4a97d49</td>\n",
       "    </tr>\n",
       "    <tr>\n",
       "      <th>1</th>\n",
       "      <td>1.112903e+20</td>\n",
       "      <td>Rafa Robles</td>\n",
       "      <td>2021-02-09 05:47:28</td>\n",
       "      <td>5</td>\n",
       "      <td>Good very good</td>\n",
       "      <td></td>\n",
       "      <td></td>\n",
       "      <td>Tuesday</td>\n",
       "      <td>0x80c2c778e3b73d33</td>\n",
       "      <td>0xbdc58662a4a97d49</td>\n",
       "    </tr>\n",
       "    <tr>\n",
       "      <th>2</th>\n",
       "      <td>1.126404e+20</td>\n",
       "      <td>David Han</td>\n",
       "      <td>2020-03-08 05:04:42</td>\n",
       "      <td>4</td>\n",
       "      <td>They make Korean traditional food very properly.</td>\n",
       "      <td></td>\n",
       "      <td></td>\n",
       "      <td>Sunday</td>\n",
       "      <td>0x80c2c778e3b73d33</td>\n",
       "      <td>0xbdc58662a4a97d49</td>\n",
       "    </tr>\n",
       "    <tr>\n",
       "      <th>3</th>\n",
       "      <td>1.174403e+20</td>\n",
       "      <td>Anthony Kim</td>\n",
       "      <td>2019-03-07 05:56:56</td>\n",
       "      <td>5</td>\n",
       "      <td>Short ribs are very delicious.</td>\n",
       "      <td></td>\n",
       "      <td></td>\n",
       "      <td>Thursday</td>\n",
       "      <td>0x80c2c778e3b73d33</td>\n",
       "      <td>0xbdc58662a4a97d49</td>\n",
       "    </tr>\n",
       "    <tr>\n",
       "      <th>4</th>\n",
       "      <td>1.005808e+20</td>\n",
       "      <td>Mario Marzouk</td>\n",
       "      <td>2017-05-16 05:01:41</td>\n",
       "      <td>5</td>\n",
       "      <td>Great food and prices the portions are large</td>\n",
       "      <td></td>\n",
       "      <td></td>\n",
       "      <td>Tuesday</td>\n",
       "      <td>0x80c2c778e3b73d33</td>\n",
       "      <td>0xbdc58662a4a97d49</td>\n",
       "    </tr>\n",
       "  </tbody>\n",
       "</table>\n",
       "</div>"
      ],
      "text/plain": [
       "        user_id           name                time  rating  \\\n",
       "0  1.089912e+20        Song Ro 2021-01-06 05:12:07       5   \n",
       "1  1.112903e+20    Rafa Robles 2021-02-09 05:47:28       5   \n",
       "2  1.126404e+20      David Han 2020-03-08 05:04:42       4   \n",
       "3  1.174403e+20    Anthony Kim 2019-03-07 05:56:56       5   \n",
       "4  1.005808e+20  Mario Marzouk 2017-05-16 05:01:41       5   \n",
       "\n",
       "                                               text pics resp    weekday  \\\n",
       "0                      Love there korean rice cake.            Wednesday   \n",
       "1                                    Good very good              Tuesday   \n",
       "2  They make Korean traditional food very properly.               Sunday   \n",
       "3                    Short ribs are very delicious.             Thursday   \n",
       "4      Great food and prices the portions are large              Tuesday   \n",
       "\n",
       "             gmap_id1            gmap_id2  \n",
       "0  0x80c2c778e3b73d33  0xbdc58662a4a97d49  \n",
       "1  0x80c2c778e3b73d33  0xbdc58662a4a97d49  \n",
       "2  0x80c2c778e3b73d33  0xbdc58662a4a97d49  \n",
       "3  0x80c2c778e3b73d33  0xbdc58662a4a97d49  \n",
       "4  0x80c2c778e3b73d33  0xbdc58662a4a97d49  "
      ]
     },
     "execution_count": 31,
     "metadata": {},
     "output_type": "execute_result"
    }
   ],
   "source": [
    "California.head()"
   ]
  },
  {
   "cell_type": "code",
   "execution_count": 32,
   "metadata": {},
   "outputs": [
    {
     "data": {
      "text/html": [
       "<div>\n",
       "<style scoped>\n",
       "    .dataframe tbody tr th:only-of-type {\n",
       "        vertical-align: middle;\n",
       "    }\n",
       "\n",
       "    .dataframe tbody tr th {\n",
       "        vertical-align: top;\n",
       "    }\n",
       "\n",
       "    .dataframe thead th {\n",
       "        text-align: right;\n",
       "    }\n",
       "</style>\n",
       "<table border=\"1\" class=\"dataframe\">\n",
       "  <thead>\n",
       "    <tr style=\"text-align: right;\">\n",
       "      <th></th>\n",
       "      <th>user_id</th>\n",
       "      <th>name</th>\n",
       "      <th>time</th>\n",
       "      <th>rating</th>\n",
       "      <th>text</th>\n",
       "      <th>pics</th>\n",
       "      <th>resp</th>\n",
       "      <th>gmap_id</th>\n",
       "    </tr>\n",
       "  </thead>\n",
       "  <tbody>\n",
       "    <tr>\n",
       "      <th>0</th>\n",
       "      <td>1.014719e+20</td>\n",
       "      <td>Julie A. Gerber</td>\n",
       "      <td>1628003250740</td>\n",
       "      <td>1</td>\n",
       "      <td>Update: Their “reply” to my review amounted to...</td>\n",
       "      <td>None</td>\n",
       "      <td>{'time': 1627042799532, 'text': 'Thank you for...</td>\n",
       "      <td>0x8893863ea87bd5dd:0x9383ebf973e74abb</td>\n",
       "    </tr>\n",
       "    <tr>\n",
       "      <th>1</th>\n",
       "      <td>1.154772e+20</td>\n",
       "      <td>Martin Sheffield</td>\n",
       "      <td>1595031217005</td>\n",
       "      <td>5</td>\n",
       "      <td>He's a knowledgeable doctor but the way he run...</td>\n",
       "      <td>None</td>\n",
       "      <td>{'time': 1582464056733, 'text': 'Thank you for...</td>\n",
       "      <td>0x8893863ea87bd5dd:0x9383ebf973e74abb</td>\n",
       "    </tr>\n",
       "    <tr>\n",
       "      <th>2</th>\n",
       "      <td>1.018050e+20</td>\n",
       "      <td>Brian Truett</td>\n",
       "      <td>1522924253567</td>\n",
       "      <td>5</td>\n",
       "      <td>Best doctor I've ever had, I never wait to be ...</td>\n",
       "      <td>None</td>\n",
       "      <td>None</td>\n",
       "      <td>0x8893863ea87bd5dd:0x9383ebf973e74abb</td>\n",
       "    </tr>\n",
       "    <tr>\n",
       "      <th>3</th>\n",
       "      <td>1.063444e+20</td>\n",
       "      <td>Tina Sun</td>\n",
       "      <td>1467907819586</td>\n",
       "      <td>1</td>\n",
       "      <td>I was told he is a good doctor. I was trying t...</td>\n",
       "      <td>None</td>\n",
       "      <td>None</td>\n",
       "      <td>0x8893863ea87bd5dd:0x9383ebf973e74abb</td>\n",
       "    </tr>\n",
       "    <tr>\n",
       "      <th>4</th>\n",
       "      <td>1.008751e+20</td>\n",
       "      <td>James Haynes</td>\n",
       "      <td>1480683415081</td>\n",
       "      <td>5</td>\n",
       "      <td>Takes the time to actually get to know his pat...</td>\n",
       "      <td>None</td>\n",
       "      <td>None</td>\n",
       "      <td>0x8893863ea87bd5dd:0x9383ebf973e74abb</td>\n",
       "    </tr>\n",
       "  </tbody>\n",
       "</table>\n",
       "</div>"
      ],
      "text/plain": [
       "        user_id              name           time  rating  \\\n",
       "0  1.014719e+20   Julie A. Gerber  1628003250740       1   \n",
       "1  1.154772e+20  Martin Sheffield  1595031217005       5   \n",
       "2  1.018050e+20      Brian Truett  1522924253567       5   \n",
       "3  1.063444e+20          Tina Sun  1467907819586       1   \n",
       "4  1.008751e+20      James Haynes  1480683415081       5   \n",
       "\n",
       "                                                text  pics  \\\n",
       "0  Update: Their “reply” to my review amounted to...  None   \n",
       "1  He's a knowledgeable doctor but the way he run...  None   \n",
       "2  Best doctor I've ever had, I never wait to be ...  None   \n",
       "3  I was told he is a good doctor. I was trying t...  None   \n",
       "4  Takes the time to actually get to know his pat...  None   \n",
       "\n",
       "                                                resp  \\\n",
       "0  {'time': 1627042799532, 'text': 'Thank you for...   \n",
       "1  {'time': 1582464056733, 'text': 'Thank you for...   \n",
       "2                                               None   \n",
       "3                                               None   \n",
       "4                                               None   \n",
       "\n",
       "                                 gmap_id  \n",
       "0  0x8893863ea87bd5dd:0x9383ebf973e74abb  \n",
       "1  0x8893863ea87bd5dd:0x9383ebf973e74abb  \n",
       "2  0x8893863ea87bd5dd:0x9383ebf973e74abb  \n",
       "3  0x8893863ea87bd5dd:0x9383ebf973e74abb  \n",
       "4  0x8893863ea87bd5dd:0x9383ebf973e74abb  "
      ]
     },
     "execution_count": 32,
     "metadata": {},
     "output_type": "execute_result"
    }
   ],
   "source": [
    "Florida.head()"
   ]
  },
  {
   "cell_type": "code",
   "execution_count": 33,
   "metadata": {},
   "outputs": [
    {
     "name": "stdout",
     "output_type": "stream",
     "text": [
      "(2850000, 8)\n"
     ]
    }
   ],
   "source": [
    "print(Florida.shape)"
   ]
  },
  {
   "cell_type": "code",
   "execution_count": 34,
   "metadata": {},
   "outputs": [
    {
     "name": "stdout",
     "output_type": "stream",
     "text": [
      "            user_id          time        rating\n",
      "count  2.850000e+06  2.850000e+06  2.850000e+06\n",
      "mean   1.093032e+20  1.555140e+12  4.313658e+00\n",
      "std    5.276713e+18  4.360793e+10  1.170064e+00\n",
      "min    1.000000e+20  1.041379e+12  1.000000e+00\n",
      "25%    1.047751e+20  1.527462e+12  4.000000e+00\n",
      "50%    1.092897e+20  1.557678e+12  5.000000e+00\n",
      "75%    1.138648e+20  1.585605e+12  5.000000e+00\n",
      "max    1.184467e+20  1.631205e+12  5.000000e+00\n"
     ]
    }
   ],
   "source": [
    "print(Florida.describe())"
   ]
  },
  {
   "cell_type": "code",
   "execution_count": 35,
   "metadata": {},
   "outputs": [
    {
     "name": "stdout",
     "output_type": "stream",
     "text": [
      "user_id          0\n",
      "name             0\n",
      "time             0\n",
      "rating           0\n",
      "text       1079510\n",
      "pics       2745810\n",
      "resp       2394601\n",
      "gmap_id          0\n",
      "dtype: int64\n"
     ]
    }
   ],
   "source": [
    "print(Florida.isnull().sum())"
   ]
  },
  {
   "cell_type": "code",
   "execution_count": 36,
   "metadata": {},
   "outputs": [],
   "source": [
    "Florida['time'] = pd.to_datetime(Florida['time'], unit='ms')"
   ]
  },
  {
   "cell_type": "code",
   "execution_count": 37,
   "metadata": {},
   "outputs": [],
   "source": [
    "Florida['weekday'] = Florida['time'].dt.day_name()"
   ]
  },
  {
   "cell_type": "code",
   "execution_count": 38,
   "metadata": {},
   "outputs": [],
   "source": [
    "Florida['time'] = Florida['time'].dt.strftime('%Y-%m-%d %H:%M:%S')"
   ]
  },
  {
   "cell_type": "code",
   "execution_count": 39,
   "metadata": {},
   "outputs": [],
   "source": [
    "Florida['time'] = pd.to_datetime(Florida['time'])"
   ]
  },
  {
   "cell_type": "code",
   "execution_count": 40,
   "metadata": {},
   "outputs": [],
   "source": [
    "df_resp_Florida = pd.json_normalize(Florida['resp'])"
   ]
  },
  {
   "cell_type": "code",
   "execution_count": 41,
   "metadata": {},
   "outputs": [],
   "source": [
    "Florida['resp'] = df_resp_Florida['text']"
   ]
  },
  {
   "cell_type": "code",
   "execution_count": 42,
   "metadata": {},
   "outputs": [],
   "source": [
    "Florida['pics'] = Florida['pics'].apply(get_diccionario)"
   ]
  },
  {
   "cell_type": "code",
   "execution_count": 43,
   "metadata": {},
   "outputs": [],
   "source": [
    "df_pics_Florida = pd.json_normalize(Florida['pics'])"
   ]
  },
  {
   "cell_type": "code",
   "execution_count": 44,
   "metadata": {},
   "outputs": [],
   "source": [
    "df_pics_Florida['url'] = df_pics_Florida['url'].apply(extract_url_from_list)"
   ]
  },
  {
   "cell_type": "code",
   "execution_count": 45,
   "metadata": {},
   "outputs": [],
   "source": [
    "Florida['pics']= df_pics_Florida['url']"
   ]
  },
  {
   "cell_type": "code",
   "execution_count": 46,
   "metadata": {},
   "outputs": [],
   "source": [
    "Florida[['gmap_id1', 'gmap_id2']] = Florida['gmap_id'].str.split(':', expand=True)"
   ]
  },
  {
   "cell_type": "code",
   "execution_count": 47,
   "metadata": {},
   "outputs": [],
   "source": [
    "Florida.drop(columns=['gmap_id',], inplace=True)"
   ]
  },
  {
   "cell_type": "code",
   "execution_count": 48,
   "metadata": {},
   "outputs": [],
   "source": [
    "Florida['text'] = Florida['text'].fillna('')\n",
    "Florida['pics'] = Florida['pics'].fillna('')\n",
    "Florida['resp'] = Florida['resp'].fillna('')"
   ]
  },
  {
   "cell_type": "code",
   "execution_count": 49,
   "metadata": {},
   "outputs": [
    {
     "data": {
      "text/html": [
       "<div>\n",
       "<style scoped>\n",
       "    .dataframe tbody tr th:only-of-type {\n",
       "        vertical-align: middle;\n",
       "    }\n",
       "\n",
       "    .dataframe tbody tr th {\n",
       "        vertical-align: top;\n",
       "    }\n",
       "\n",
       "    .dataframe thead th {\n",
       "        text-align: right;\n",
       "    }\n",
       "</style>\n",
       "<table border=\"1\" class=\"dataframe\">\n",
       "  <thead>\n",
       "    <tr style=\"text-align: right;\">\n",
       "      <th></th>\n",
       "      <th>user_id</th>\n",
       "      <th>name</th>\n",
       "      <th>time</th>\n",
       "      <th>rating</th>\n",
       "      <th>text</th>\n",
       "      <th>pics</th>\n",
       "      <th>resp</th>\n",
       "      <th>weekday</th>\n",
       "      <th>gmap_id1</th>\n",
       "      <th>gmap_id2</th>\n",
       "    </tr>\n",
       "  </thead>\n",
       "  <tbody>\n",
       "    <tr>\n",
       "      <th>0</th>\n",
       "      <td>1.014719e+20</td>\n",
       "      <td>Julie A. Gerber</td>\n",
       "      <td>2021-08-03 15:07:30</td>\n",
       "      <td>1</td>\n",
       "      <td>Update: Their “reply” to my review amounted to...</td>\n",
       "      <td></td>\n",
       "      <td>Thank you for the feedback. We would like to w...</td>\n",
       "      <td>Tuesday</td>\n",
       "      <td>0x8893863ea87bd5dd</td>\n",
       "      <td>0x9383ebf973e74abb</td>\n",
       "    </tr>\n",
       "    <tr>\n",
       "      <th>1</th>\n",
       "      <td>1.154772e+20</td>\n",
       "      <td>Martin Sheffield</td>\n",
       "      <td>2020-07-18 00:13:37</td>\n",
       "      <td>5</td>\n",
       "      <td>He's a knowledgeable doctor but the way he run...</td>\n",
       "      <td></td>\n",
       "      <td>Thank you for reaching out. I’m forwarding you...</td>\n",
       "      <td>Saturday</td>\n",
       "      <td>0x8893863ea87bd5dd</td>\n",
       "      <td>0x9383ebf973e74abb</td>\n",
       "    </tr>\n",
       "    <tr>\n",
       "      <th>2</th>\n",
       "      <td>1.018050e+20</td>\n",
       "      <td>Brian Truett</td>\n",
       "      <td>2018-04-05 10:30:53</td>\n",
       "      <td>5</td>\n",
       "      <td>Best doctor I've ever had, I never wait to be ...</td>\n",
       "      <td></td>\n",
       "      <td></td>\n",
       "      <td>Thursday</td>\n",
       "      <td>0x8893863ea87bd5dd</td>\n",
       "      <td>0x9383ebf973e74abb</td>\n",
       "    </tr>\n",
       "    <tr>\n",
       "      <th>3</th>\n",
       "      <td>1.063444e+20</td>\n",
       "      <td>Tina Sun</td>\n",
       "      <td>2016-07-07 16:10:19</td>\n",
       "      <td>1</td>\n",
       "      <td>I was told he is a good doctor. I was trying t...</td>\n",
       "      <td></td>\n",
       "      <td></td>\n",
       "      <td>Thursday</td>\n",
       "      <td>0x8893863ea87bd5dd</td>\n",
       "      <td>0x9383ebf973e74abb</td>\n",
       "    </tr>\n",
       "    <tr>\n",
       "      <th>4</th>\n",
       "      <td>1.008751e+20</td>\n",
       "      <td>James Haynes</td>\n",
       "      <td>2016-12-02 12:56:55</td>\n",
       "      <td>5</td>\n",
       "      <td>Takes the time to actually get to know his pat...</td>\n",
       "      <td></td>\n",
       "      <td></td>\n",
       "      <td>Friday</td>\n",
       "      <td>0x8893863ea87bd5dd</td>\n",
       "      <td>0x9383ebf973e74abb</td>\n",
       "    </tr>\n",
       "  </tbody>\n",
       "</table>\n",
       "</div>"
      ],
      "text/plain": [
       "        user_id              name                time  rating  \\\n",
       "0  1.014719e+20   Julie A. Gerber 2021-08-03 15:07:30       1   \n",
       "1  1.154772e+20  Martin Sheffield 2020-07-18 00:13:37       5   \n",
       "2  1.018050e+20      Brian Truett 2018-04-05 10:30:53       5   \n",
       "3  1.063444e+20          Tina Sun 2016-07-07 16:10:19       1   \n",
       "4  1.008751e+20      James Haynes 2016-12-02 12:56:55       5   \n",
       "\n",
       "                                                text pics  \\\n",
       "0  Update: Their “reply” to my review amounted to...        \n",
       "1  He's a knowledgeable doctor but the way he run...        \n",
       "2  Best doctor I've ever had, I never wait to be ...        \n",
       "3  I was told he is a good doctor. I was trying t...        \n",
       "4  Takes the time to actually get to know his pat...        \n",
       "\n",
       "                                                resp   weekday  \\\n",
       "0  Thank you for the feedback. We would like to w...   Tuesday   \n",
       "1  Thank you for reaching out. I’m forwarding you...  Saturday   \n",
       "2                                                     Thursday   \n",
       "3                                                     Thursday   \n",
       "4                                                       Friday   \n",
       "\n",
       "             gmap_id1            gmap_id2  \n",
       "0  0x8893863ea87bd5dd  0x9383ebf973e74abb  \n",
       "1  0x8893863ea87bd5dd  0x9383ebf973e74abb  \n",
       "2  0x8893863ea87bd5dd  0x9383ebf973e74abb  \n",
       "3  0x8893863ea87bd5dd  0x9383ebf973e74abb  \n",
       "4  0x8893863ea87bd5dd  0x9383ebf973e74abb  "
      ]
     },
     "execution_count": 49,
     "metadata": {},
     "output_type": "execute_result"
    }
   ],
   "source": [
    "Florida.head()"
   ]
  },
  {
   "cell_type": "code",
   "execution_count": 50,
   "metadata": {},
   "outputs": [
    {
     "data": {
      "text/html": [
       "<div>\n",
       "<style scoped>\n",
       "    .dataframe tbody tr th:only-of-type {\n",
       "        vertical-align: middle;\n",
       "    }\n",
       "\n",
       "    .dataframe tbody tr th {\n",
       "        vertical-align: top;\n",
       "    }\n",
       "\n",
       "    .dataframe thead th {\n",
       "        text-align: right;\n",
       "    }\n",
       "</style>\n",
       "<table border=\"1\" class=\"dataframe\">\n",
       "  <thead>\n",
       "    <tr style=\"text-align: right;\">\n",
       "      <th></th>\n",
       "      <th>user_id</th>\n",
       "      <th>name</th>\n",
       "      <th>time</th>\n",
       "      <th>rating</th>\n",
       "      <th>text</th>\n",
       "      <th>pics</th>\n",
       "      <th>resp</th>\n",
       "      <th>gmap_id</th>\n",
       "    </tr>\n",
       "  </thead>\n",
       "  <tbody>\n",
       "    <tr>\n",
       "      <th>0</th>\n",
       "      <td>1.014719e+20</td>\n",
       "      <td>Julie A. Gerber</td>\n",
       "      <td>1628003250740</td>\n",
       "      <td>1</td>\n",
       "      <td>Update: Their “reply” to my review amounted to...</td>\n",
       "      <td>None</td>\n",
       "      <td>{'time': 1627042799532, 'text': 'Thank you for...</td>\n",
       "      <td>0x8893863ea87bd5dd:0x9383ebf973e74abb</td>\n",
       "    </tr>\n",
       "    <tr>\n",
       "      <th>1</th>\n",
       "      <td>1.154772e+20</td>\n",
       "      <td>Martin Sheffield</td>\n",
       "      <td>1595031217005</td>\n",
       "      <td>5</td>\n",
       "      <td>He's a knowledgeable doctor but the way he run...</td>\n",
       "      <td>None</td>\n",
       "      <td>{'time': 1582464056733, 'text': 'Thank you for...</td>\n",
       "      <td>0x8893863ea87bd5dd:0x9383ebf973e74abb</td>\n",
       "    </tr>\n",
       "    <tr>\n",
       "      <th>2</th>\n",
       "      <td>1.018050e+20</td>\n",
       "      <td>Brian Truett</td>\n",
       "      <td>1522924253567</td>\n",
       "      <td>5</td>\n",
       "      <td>Best doctor I've ever had, I never wait to be ...</td>\n",
       "      <td>None</td>\n",
       "      <td>None</td>\n",
       "      <td>0x8893863ea87bd5dd:0x9383ebf973e74abb</td>\n",
       "    </tr>\n",
       "    <tr>\n",
       "      <th>3</th>\n",
       "      <td>1.063444e+20</td>\n",
       "      <td>Tina Sun</td>\n",
       "      <td>1467907819586</td>\n",
       "      <td>1</td>\n",
       "      <td>I was told he is a good doctor. I was trying t...</td>\n",
       "      <td>None</td>\n",
       "      <td>None</td>\n",
       "      <td>0x8893863ea87bd5dd:0x9383ebf973e74abb</td>\n",
       "    </tr>\n",
       "    <tr>\n",
       "      <th>4</th>\n",
       "      <td>1.008751e+20</td>\n",
       "      <td>James Haynes</td>\n",
       "      <td>1480683415081</td>\n",
       "      <td>5</td>\n",
       "      <td>Takes the time to actually get to know his pat...</td>\n",
       "      <td>None</td>\n",
       "      <td>None</td>\n",
       "      <td>0x8893863ea87bd5dd:0x9383ebf973e74abb</td>\n",
       "    </tr>\n",
       "  </tbody>\n",
       "</table>\n",
       "</div>"
      ],
      "text/plain": [
       "        user_id              name           time  rating  \\\n",
       "0  1.014719e+20   Julie A. Gerber  1628003250740       1   \n",
       "1  1.154772e+20  Martin Sheffield  1595031217005       5   \n",
       "2  1.018050e+20      Brian Truett  1522924253567       5   \n",
       "3  1.063444e+20          Tina Sun  1467907819586       1   \n",
       "4  1.008751e+20      James Haynes  1480683415081       5   \n",
       "\n",
       "                                                text  pics  \\\n",
       "0  Update: Their “reply” to my review amounted to...  None   \n",
       "1  He's a knowledgeable doctor but the way he run...  None   \n",
       "2  Best doctor I've ever had, I never wait to be ...  None   \n",
       "3  I was told he is a good doctor. I was trying t...  None   \n",
       "4  Takes the time to actually get to know his pat...  None   \n",
       "\n",
       "                                                resp  \\\n",
       "0  {'time': 1627042799532, 'text': 'Thank you for...   \n",
       "1  {'time': 1582464056733, 'text': 'Thank you for...   \n",
       "2                                               None   \n",
       "3                                               None   \n",
       "4                                               None   \n",
       "\n",
       "                                 gmap_id  \n",
       "0  0x8893863ea87bd5dd:0x9383ebf973e74abb  \n",
       "1  0x8893863ea87bd5dd:0x9383ebf973e74abb  \n",
       "2  0x8893863ea87bd5dd:0x9383ebf973e74abb  \n",
       "3  0x8893863ea87bd5dd:0x9383ebf973e74abb  \n",
       "4  0x8893863ea87bd5dd:0x9383ebf973e74abb  "
      ]
     },
     "execution_count": 50,
     "metadata": {},
     "output_type": "execute_result"
    }
   ],
   "source": [
    "Nevada.head()"
   ]
  },
  {
   "cell_type": "code",
   "execution_count": 51,
   "metadata": {},
   "outputs": [
    {
     "name": "stdout",
     "output_type": "stream",
     "text": [
      "(2850000, 10)\n",
      "            user_id                           time        rating\n",
      "count  2.850000e+06                        2850000  2.850000e+06\n",
      "mean   1.093032e+20  2019-04-13 07:13:13.878512384  4.313658e+00\n",
      "min    1.000000e+20            2003-01-01 00:00:00  1.000000e+00\n",
      "25%    1.047751e+20            2018-05-27 23:01:02  4.000000e+00\n",
      "50%    1.092897e+20            2019-05-12 16:14:12  5.000000e+00\n",
      "75%    1.138648e+20            2020-03-30 21:55:06  5.000000e+00\n",
      "max    1.184467e+20            2021-09-09 16:22:53  5.000000e+00\n",
      "std    5.276713e+18                            NaN  1.170064e+00\n",
      "user_id     0\n",
      "name        0\n",
      "time        0\n",
      "rating      0\n",
      "text        0\n",
      "pics        0\n",
      "resp        0\n",
      "weekday     0\n",
      "gmap_id1    0\n",
      "gmap_id2    0\n",
      "dtype: int64\n"
     ]
    }
   ],
   "source": [
    "print(Florida.shape)\n",
    "print(Florida.describe())\n",
    "print(Florida.isnull().sum())"
   ]
  },
  {
   "cell_type": "code",
   "execution_count": 52,
   "metadata": {},
   "outputs": [],
   "source": [
    "Nevada['time'] = pd.to_datetime(Nevada['time'], unit='ms')\n",
    "Nevada['weekday'] = Nevada['time'].dt.day_name()\n",
    "Nevada['time'] = Nevada['time'].dt.strftime('%Y-%m-%d %H:%M:%S')\n",
    "Nevada['time'] = pd.to_datetime(Nevada['time'])"
   ]
  },
  {
   "cell_type": "code",
   "execution_count": 53,
   "metadata": {},
   "outputs": [],
   "source": [
    "df_resp_Nevada = pd.json_normalize(Nevada['resp'])\n",
    "Nevada['resp'] = df_resp_Nevada['text']"
   ]
  },
  {
   "cell_type": "code",
   "execution_count": 77,
   "metadata": {},
   "outputs": [],
   "source": [
    "Nevada['pics'] = Nevada['pics'].apply(get_diccionario)"
   ]
  },
  {
   "cell_type": "code",
   "execution_count": 55,
   "metadata": {},
   "outputs": [],
   "source": [
    "df_pics_Nevada = pd.json_normalize(Nevada['pics'])"
   ]
  },
  {
   "cell_type": "code",
   "execution_count": 56,
   "metadata": {},
   "outputs": [],
   "source": [
    "df_pics_Nevada['url'] = df_pics_Nevada['url'].apply(extract_url_from_list)"
   ]
  },
  {
   "cell_type": "code",
   "execution_count": 57,
   "metadata": {},
   "outputs": [],
   "source": [
    "Nevada['pics']= df_pics_Nevada['url']"
   ]
  },
  {
   "cell_type": "code",
   "execution_count": 58,
   "metadata": {},
   "outputs": [],
   "source": [
    "Nevada[['gmap_id1', 'gmap_id2']] = Nevada['gmap_id'].str.split(':', expand=True)\n",
    "Nevada.drop(columns=['gmap_id',], inplace=True)"
   ]
  },
  {
   "cell_type": "code",
   "execution_count": 59,
   "metadata": {},
   "outputs": [],
   "source": [
    "Nevada['text'] = Nevada['text'].fillna('')\n",
    "Nevada['pics'] = Nevada['pics'].fillna('')\n",
    "Nevada['resp'] = Nevada['resp'].fillna('')"
   ]
  },
  {
   "cell_type": "code",
   "execution_count": 60,
   "metadata": {},
   "outputs": [
    {
     "data": {
      "text/html": [
       "<div>\n",
       "<style scoped>\n",
       "    .dataframe tbody tr th:only-of-type {\n",
       "        vertical-align: middle;\n",
       "    }\n",
       "\n",
       "    .dataframe tbody tr th {\n",
       "        vertical-align: top;\n",
       "    }\n",
       "\n",
       "    .dataframe thead th {\n",
       "        text-align: right;\n",
       "    }\n",
       "</style>\n",
       "<table border=\"1\" class=\"dataframe\">\n",
       "  <thead>\n",
       "    <tr style=\"text-align: right;\">\n",
       "      <th></th>\n",
       "      <th>user_id</th>\n",
       "      <th>name</th>\n",
       "      <th>time</th>\n",
       "      <th>rating</th>\n",
       "      <th>text</th>\n",
       "      <th>pics</th>\n",
       "      <th>resp</th>\n",
       "      <th>weekday</th>\n",
       "      <th>gmap_id1</th>\n",
       "      <th>gmap_id2</th>\n",
       "    </tr>\n",
       "  </thead>\n",
       "  <tbody>\n",
       "    <tr>\n",
       "      <th>0</th>\n",
       "      <td>1.014719e+20</td>\n",
       "      <td>Julie A. Gerber</td>\n",
       "      <td>2021-08-03 15:07:30</td>\n",
       "      <td>1</td>\n",
       "      <td>Update: Their “reply” to my review amounted to...</td>\n",
       "      <td></td>\n",
       "      <td>Thank you for the feedback. We would like to w...</td>\n",
       "      <td>Tuesday</td>\n",
       "      <td>0x8893863ea87bd5dd</td>\n",
       "      <td>0x9383ebf973e74abb</td>\n",
       "    </tr>\n",
       "    <tr>\n",
       "      <th>1</th>\n",
       "      <td>1.154772e+20</td>\n",
       "      <td>Martin Sheffield</td>\n",
       "      <td>2020-07-18 00:13:37</td>\n",
       "      <td>5</td>\n",
       "      <td>He's a knowledgeable doctor but the way he run...</td>\n",
       "      <td></td>\n",
       "      <td>Thank you for reaching out. I’m forwarding you...</td>\n",
       "      <td>Saturday</td>\n",
       "      <td>0x8893863ea87bd5dd</td>\n",
       "      <td>0x9383ebf973e74abb</td>\n",
       "    </tr>\n",
       "    <tr>\n",
       "      <th>2</th>\n",
       "      <td>1.018050e+20</td>\n",
       "      <td>Brian Truett</td>\n",
       "      <td>2018-04-05 10:30:53</td>\n",
       "      <td>5</td>\n",
       "      <td>Best doctor I've ever had, I never wait to be ...</td>\n",
       "      <td></td>\n",
       "      <td></td>\n",
       "      <td>Thursday</td>\n",
       "      <td>0x8893863ea87bd5dd</td>\n",
       "      <td>0x9383ebf973e74abb</td>\n",
       "    </tr>\n",
       "    <tr>\n",
       "      <th>3</th>\n",
       "      <td>1.063444e+20</td>\n",
       "      <td>Tina Sun</td>\n",
       "      <td>2016-07-07 16:10:19</td>\n",
       "      <td>1</td>\n",
       "      <td>I was told he is a good doctor. I was trying t...</td>\n",
       "      <td></td>\n",
       "      <td></td>\n",
       "      <td>Thursday</td>\n",
       "      <td>0x8893863ea87bd5dd</td>\n",
       "      <td>0x9383ebf973e74abb</td>\n",
       "    </tr>\n",
       "    <tr>\n",
       "      <th>4</th>\n",
       "      <td>1.008751e+20</td>\n",
       "      <td>James Haynes</td>\n",
       "      <td>2016-12-02 12:56:55</td>\n",
       "      <td>5</td>\n",
       "      <td>Takes the time to actually get to know his pat...</td>\n",
       "      <td></td>\n",
       "      <td></td>\n",
       "      <td>Friday</td>\n",
       "      <td>0x8893863ea87bd5dd</td>\n",
       "      <td>0x9383ebf973e74abb</td>\n",
       "    </tr>\n",
       "  </tbody>\n",
       "</table>\n",
       "</div>"
      ],
      "text/plain": [
       "        user_id              name                time  rating  \\\n",
       "0  1.014719e+20   Julie A. Gerber 2021-08-03 15:07:30       1   \n",
       "1  1.154772e+20  Martin Sheffield 2020-07-18 00:13:37       5   \n",
       "2  1.018050e+20      Brian Truett 2018-04-05 10:30:53       5   \n",
       "3  1.063444e+20          Tina Sun 2016-07-07 16:10:19       1   \n",
       "4  1.008751e+20      James Haynes 2016-12-02 12:56:55       5   \n",
       "\n",
       "                                                text pics  \\\n",
       "0  Update: Their “reply” to my review amounted to...        \n",
       "1  He's a knowledgeable doctor but the way he run...        \n",
       "2  Best doctor I've ever had, I never wait to be ...        \n",
       "3  I was told he is a good doctor. I was trying t...        \n",
       "4  Takes the time to actually get to know his pat...        \n",
       "\n",
       "                                                resp   weekday  \\\n",
       "0  Thank you for the feedback. We would like to w...   Tuesday   \n",
       "1  Thank you for reaching out. I’m forwarding you...  Saturday   \n",
       "2                                                     Thursday   \n",
       "3                                                     Thursday   \n",
       "4                                                       Friday   \n",
       "\n",
       "             gmap_id1            gmap_id2  \n",
       "0  0x8893863ea87bd5dd  0x9383ebf973e74abb  \n",
       "1  0x8893863ea87bd5dd  0x9383ebf973e74abb  \n",
       "2  0x8893863ea87bd5dd  0x9383ebf973e74abb  \n",
       "3  0x8893863ea87bd5dd  0x9383ebf973e74abb  \n",
       "4  0x8893863ea87bd5dd  0x9383ebf973e74abb  "
      ]
     },
     "execution_count": 60,
     "metadata": {},
     "output_type": "execute_result"
    }
   ],
   "source": [
    "Nevada.head()"
   ]
  }
 ],
 "metadata": {
  "kernelspec": {
   "display_name": "Python 3",
   "language": "python",
   "name": "python3"
  },
  "language_info": {
   "codemirror_mode": {
    "name": "ipython",
    "version": 3
   },
   "file_extension": ".py",
   "mimetype": "text/x-python",
   "name": "python",
   "nbconvert_exporter": "python",
   "pygments_lexer": "ipython3",
   "version": "3.11.0"
  },
  "orig_nbformat": 4
 },
 "nbformat": 4,
 "nbformat_minor": 2
}
