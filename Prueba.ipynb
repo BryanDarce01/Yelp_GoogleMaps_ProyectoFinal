{
 "cells": [
  {
   "cell_type": "code",
   "execution_count": 42,
   "metadata": {},
   "outputs": [],
   "source": [
    "import pandas as pd\n",
    "import re\n",
    "import nltk\n",
    "from nltk.tokenize import word_tokenize\n",
    "from nltk.corpus import stopwords\n",
    "from nltk.stem import WordNetLemmatizer\n",
    "from collections import Counter\n",
    "import matplotlib.pyplot as plt"
   ]
  },
  {
   "cell_type": "code",
   "execution_count": 18,
   "metadata": {},
   "outputs": [],
   "source": [
    "df = pd.read_csv(\"machine_learning.csv\")"
   ]
  },
  {
   "cell_type": "code",
   "execution_count": 19,
   "metadata": {},
   "outputs": [
    {
     "name": "stdout",
     "output_type": "stream",
     "text": [
      "<class 'pandas.core.frame.DataFrame'>\n",
      "RangeIndex: 500 entries, 0 to 499\n",
      "Data columns (total 29 columns):\n",
      " #   Column                      Non-Null Count  Dtype  \n",
      "---  ------                      --------------  -----  \n",
      " 0   author_name                 295 non-null    object \n",
      " 1   author_url                  295 non-null    object \n",
      " 2   language                    295 non-null    object \n",
      " 3   original_language           295 non-null    object \n",
      " 4   profile_photo_url           295 non-null    object \n",
      " 5   rating                      500 non-null    int64  \n",
      " 6   relative_time_description   295 non-null    object \n",
      " 7   text                        500 non-null    object \n",
      " 8   time                        295 non-null    float64\n",
      " 9   translated                  295 non-null    object \n",
      " 10  restaurant_name             500 non-null    object \n",
      " 11  restaurant_location         500 non-null    object \n",
      " 12  city                        500 non-null    object \n",
      " 13  gmap_id                     500 non-null    object \n",
      " 14  category                    500 non-null    object \n",
      " 15  price_level                 280 non-null    float64\n",
      " 16  user_ratings_total          295 non-null    float64\n",
      " 17  latitude                    500 non-null    float64\n",
      " 18  longitude                   500 non-null    float64\n",
      " 19  state                       500 non-null    object \n",
      " 20  source                      500 non-null    object \n",
      " 21  __hevo_id                   500 non-null    object \n",
      " 22  id                          205 non-null    object \n",
      " 23  url                         205 non-null    object \n",
      " 24  time_created                205 non-null    object \n",
      " 25  user                        205 non-null    object \n",
      " 26  __hevo__ingested_at         500 non-null    int64  \n",
      " 27  __hevo__loaded_at           500 non-null    int64  \n",
      " 28  __hevo__source_modified_at  500 non-null    int64  \n",
      "dtypes: float64(5), int64(4), object(20)\n",
      "memory usage: 113.4+ KB\n"
     ]
    }
   ],
   "source": [
    "df.info()"
   ]
  },
  {
   "cell_type": "markdown",
   "metadata": {},
   "source": [
    "Filtrar reseñas: Selecciona las reseñas que tienen una calificación entre 4 y 5 estrellas."
   ]
  },
  {
   "cell_type": "code",
   "execution_count": 20,
   "metadata": {},
   "outputs": [],
   "source": [
    "high_rating_reviews = df[(df['rating'] >= 4) & (df['rating'] <= 5)]"
   ]
  },
  {
   "cell_type": "markdown",
   "metadata": {},
   "source": [
    "Eliminar columnas irrelevantes."
   ]
  },
  {
   "cell_type": "code",
   "execution_count": 21,
   "metadata": {},
   "outputs": [
    {
     "name": "stdout",
     "output_type": "stream",
     "text": [
      "<class 'pandas.core.frame.DataFrame'>\n",
      "Index: 456 entries, 1 to 499\n",
      "Data columns (total 29 columns):\n",
      " #   Column                      Non-Null Count  Dtype  \n",
      "---  ------                      --------------  -----  \n",
      " 0   author_name                 274 non-null    object \n",
      " 1   author_url                  274 non-null    object \n",
      " 2   language                    274 non-null    object \n",
      " 3   original_language           274 non-null    object \n",
      " 4   profile_photo_url           274 non-null    object \n",
      " 5   rating                      456 non-null    int64  \n",
      " 6   relative_time_description   274 non-null    object \n",
      " 7   text                        456 non-null    object \n",
      " 8   time                        274 non-null    float64\n",
      " 9   translated                  274 non-null    object \n",
      " 10  restaurant_name             456 non-null    object \n",
      " 11  restaurant_location         456 non-null    object \n",
      " 12  city                        456 non-null    object \n",
      " 13  gmap_id                     456 non-null    object \n",
      " 14  category                    456 non-null    object \n",
      " 15  price_level                 260 non-null    float64\n",
      " 16  user_ratings_total          274 non-null    float64\n",
      " 17  latitude                    456 non-null    float64\n",
      " 18  longitude                   456 non-null    float64\n",
      " 19  state                       456 non-null    object \n",
      " 20  source                      456 non-null    object \n",
      " 21  __hevo_id                   456 non-null    object \n",
      " 22  id                          182 non-null    object \n",
      " 23  url                         182 non-null    object \n",
      " 24  time_created                182 non-null    object \n",
      " 25  user                        182 non-null    object \n",
      " 26  __hevo__ingested_at         456 non-null    int64  \n",
      " 27  __hevo__loaded_at           456 non-null    int64  \n",
      " 28  __hevo__source_modified_at  456 non-null    int64  \n",
      "dtypes: float64(5), int64(4), object(20)\n",
      "memory usage: 106.9+ KB\n"
     ]
    }
   ],
   "source": [
    "high_rating_reviews.info()"
   ]
  },
  {
   "cell_type": "code",
   "execution_count": 23,
   "metadata": {},
   "outputs": [],
   "source": [
    "columns_to_drop = ['author_name', 'author_url', 'language', 'original_language', 'profile_photo_url', 'source',\n",
    "                   'relative_time_description', 'time', 'translated', 'restaurant_location', 'gmap_id', \n",
    "                   'price_level', 'user_ratings_total', 'latitude', 'longitude', 'id', 'url', 'time_created', \n",
    "                   'user', '__hevo__ingested_at', '__hevo_id','__hevo__loaded_at', '__hevo__source_modified_at']\n",
    "\n",
    "high_rating_reviews = high_rating_reviews.drop(columns=columns_to_drop)"
   ]
  },
  {
   "cell_type": "code",
   "execution_count": 24,
   "metadata": {},
   "outputs": [
    {
     "name": "stdout",
     "output_type": "stream",
     "text": [
      "<class 'pandas.core.frame.DataFrame'>\n",
      "Index: 456 entries, 1 to 499\n",
      "Data columns (total 6 columns):\n",
      " #   Column           Non-Null Count  Dtype \n",
      "---  ------           --------------  ----- \n",
      " 0   rating           456 non-null    int64 \n",
      " 1   text             456 non-null    object\n",
      " 2   restaurant_name  456 non-null    object\n",
      " 3   city             456 non-null    object\n",
      " 4   category         456 non-null    object\n",
      " 5   state            456 non-null    object\n",
      "dtypes: int64(1), object(5)\n",
      "memory usage: 24.9+ KB\n"
     ]
    }
   ],
   "source": [
    "high_rating_reviews.info()"
   ]
  },
  {
   "cell_type": "markdown",
   "metadata": {},
   "source": [
    "Limpieza de texto: Procesa las reseñas para eliminar caracteres especiales y convertir el texto a minúsculas."
   ]
  },
  {
   "cell_type": "code",
   "execution_count": 26,
   "metadata": {},
   "outputs": [],
   "source": [
    "def clean_text(text):\n",
    "    text = re.sub(r'[^\\w\\s]', '', text)  # Eliminar caracteres especiales\n",
    "    text = text.lower()  # Convertir a minúsculas\n",
    "    return text\n",
    "\n",
    "high_rating_reviews['cleaned_text'] = high_rating_reviews['text'].apply(clean_text)"
   ]
  },
  {
   "cell_type": "markdown",
   "metadata": {},
   "source": [
    "Tokenización: Divide el texto limpio en palabras individuales."
   ]
  },
  {
   "cell_type": "code",
   "execution_count": 33,
   "metadata": {},
   "outputs": [],
   "source": [
    "high_rating_reviews['tokens'] = high_rating_reviews['cleaned_text'].apply(word_tokenize)"
   ]
  },
  {
   "cell_type": "markdown",
   "metadata": {},
   "source": [
    "Eliminar stopwords: Las stopwords son palabras comunes que no aportan mucha información."
   ]
  },
  {
   "cell_type": "code",
   "execution_count": 34,
   "metadata": {},
   "outputs": [],
   "source": [
    "stop_words = set(stopwords.words('english'))\n",
    "\n",
    "def remove_stopwords(tokens):\n",
    "    return [word for word in tokens if word not in stop_words]\n",
    "\n",
    "high_rating_reviews['filtered_tokens'] = high_rating_reviews['tokens'].apply(remove_stopwords)"
   ]
  },
  {
   "cell_type": "markdown",
   "metadata": {},
   "source": [
    "**EDA**"
   ]
  },
  {
   "cell_type": "markdown",
   "metadata": {},
   "source": [
    "Concatenar los tokens filtrados: Antes de analizar la frecuencia de palabras, necesitas concatenar los tokens filtrados de todas las reseñas en un solo conjunto de palabras."
   ]
  },
  {
   "cell_type": "code",
   "execution_count": 35,
   "metadata": {},
   "outputs": [],
   "source": [
    "all_tokens = high_rating_reviews['filtered_tokens'].sum()"
   ]
  },
  {
   "cell_type": "markdown",
   "metadata": {},
   "source": [
    "Calcular la frecuencia de palabras: Utiliza la biblioteca collections para contar la frecuencia de cada palabra en el conjunto de palabras."
   ]
  },
  {
   "cell_type": "code",
   "execution_count": 37,
   "metadata": {},
   "outputs": [],
   "source": [
    "word_freq = Counter(all_tokens)"
   ]
  },
  {
   "cell_type": "markdown",
   "metadata": {},
   "source": [
    "Identificar las palabras más comunes: Puedes obtener las palabras más comunes y sus frecuencias usando el método most_common del objeto Counter."
   ]
  },
  {
   "cell_type": "code",
   "execution_count": 38,
   "metadata": {},
   "outputs": [
    {
     "name": "stdout",
     "output_type": "stream",
     "text": [
      "[('food', 312), ('great', 218), ('service', 182), ('good', 152), ('place', 148), ('amazing', 145), ('delicious', 132), ('experience', 131), ('restaurant', 125), ('time', 94), ('back', 85), ('us', 81), ('best', 79), ('definitely', 77), ('menu', 75), ('atmosphere', 74), ('would', 72), ('everything', 68), ('recommend', 68), ('one', 67)]\n"
     ]
    }
   ],
   "source": [
    "most_common_words = word_freq.most_common(20)  # Obtener las 20 palabras más comunes\n",
    "print(most_common_words)"
   ]
  },
  {
   "cell_type": "markdown",
   "metadata": {},
   "source": [
    "Visualizar los resultados: Puedes utilizar bibliotecas de visualización como matplotlib o seaborn para crear gráficos que muestren las palabras más comunes de manera visual."
   ]
  },
  {
   "cell_type": "code",
   "execution_count": 40,
   "metadata": {},
   "outputs": [
    {
     "data": {
      "image/png": "[encoded data removed]",
      "text/plain": [
       "<Figure size 1000x600 with 1 Axes>"
      ]
     },
     "metadata": {},
     "output_type": "display_data"
    }
   ],
   "source": [
    "\n",
    "words, frequencies = zip(*most_common_words)\n",
    "\n",
    "plt.figure(figsize=(10, 6))\n",
    "plt.bar(words, frequencies)\n",
    "plt.title('Palabras Más Comunes en Reseñas de Alta Calificación')\n",
    "plt.xlabel('Palabras')\n",
    "plt.ylabel('Frecuencia')\n",
    "plt.xticks(rotation=45)\n",
    "plt.show()"
   ]
  },
  {
   "cell_type": "markdown",
   "metadata": {},
   "source": [
    "**Procesamiento de texto**"
   ]
  },
  {
   "cell_type": "markdown",
   "metadata": {},
   "source": [
    "Stemming o Lemmatización: Puedes optar por utilizar stemming o lematización para reducir las palabras a su forma base. En este ejemplo, utilizaré la lematización utilizando NLTK."
   ]
  },
  {
   "cell_type": "code",
   "execution_count": 45,
   "metadata": {},
   "outputs": [],
   "source": [
    "lemmatizer = WordNetLemmatizer()\n",
    "\n",
    "def lemmatize_tokens(tokens):\n",
    "    return [lemmatizer.lemmatize(token) for token in tokens]\n",
    "\n",
    "high_rating_reviews['lemmatized_tokens'] = high_rating_reviews['filtered_tokens'].apply(lemmatize_tokens)"
   ]
  },
  {
   "cell_type": "markdown",
   "metadata": {},
   "source": [
    "**Construcción del modelo de clasificación**"
   ]
  },
  {
   "cell_type": "code",
   "execution_count": 55,
   "metadata": {},
   "outputs": [],
   "source": [
    "from sklearn.feature_extraction.text import TfidfVectorizer\n",
    "from sklearn.model_selection import train_test_split\n",
    "from sklearn.naive_bayes import MultinomialNB\n",
    "from sklearn.metrics import accuracy_score\n",
    "from sklearn.model_selection import cross_val_score\n",
    "from sklearn.linear_model import LogisticRegression"
   ]
  },
  {
   "cell_type": "markdown",
   "metadata": {},
   "source": [
    "Feature Engineering - Bolsa de Palabras (BoW) o TF-IDF: En esta etapa, vamos a crear vectores numéricos a partir de las palabras procesadas (lemmatized_tokens). Puedes utilizar dos enfoques comunes: Bolsa de Palabras (BoW) o TF-IDF. A continuación, te muestro cómo hacerlo con TF-IDF:"
   ]
  },
  {
   "cell_type": "code",
   "execution_count": 47,
   "metadata": {},
   "outputs": [],
   "source": [
    "tfidf_vectorizer = TfidfVectorizer(max_features=1000)  # Puedes ajustar el número máximo de características según tus necesidades\n",
    "\n",
    "X = tfidf_vectorizer.fit_transform(high_rating_reviews['lemmatized_tokens'].apply(lambda tokens: ' '.join(tokens)))"
   ]
  },
  {
   "cell_type": "markdown",
   "metadata": {},
   "source": [
    "División de Datos: Separa los datos en conjuntos de entrenamiento y prueba. Esto te permitirá entrenar el modelo en un conjunto y evaluar su rendimiento en otro."
   ]
  },
  {
   "cell_type": "code",
   "execution_count": 48,
   "metadata": {},
   "outputs": [],
   "source": [
    "X_train, X_test, y_train, y_test = train_test_split(X, high_rating_reviews['rating'], test_size=0.2, random_state=42)"
   ]
  },
  {
   "cell_type": "markdown",
   "metadata": {},
   "source": [
    "Elección del Algoritmo: Puedes utilizar diferentes algoritmos de clasificación. Aquí te mostraré cómo utilizar el algoritmo de Naive Bayes para la clasificación de texto:"
   ]
  },
  {
   "cell_type": "code",
   "execution_count": 49,
   "metadata": {},
   "outputs": [
    {
     "data": {
      "text/html": [
       "<style>#sk-container-id-1 {color: black;}#sk-container-id-1 pre{padding: 0;}#sk-container-id-1 div.sk-toggleable {background-color: white;}#sk-container-id-1 label.sk-toggleable__label {cursor: pointer;display: block;width: 100%;margin-bottom: 0;padding: 0.3em;box-sizing: border-box;text-align: center;}#sk-container-id-1 label.sk-toggleable__label-arrow:before {content: \"▸\";float: left;margin-right: 0.25em;color: #696969;}#sk-container-id-1 label.sk-toggleable__label-arrow:hover:before {color: black;}#sk-container-id-1 div.sk-estimator:hover label.sk-toggleable__label-arrow:before {color: black;}#sk-container-id-1 div.sk-toggleable__content {max-height: 0;max-width: 0;overflow: hidden;text-align: left;background-color: #f0f8ff;}#sk-container-id-1 div.sk-toggleable__content pre {margin: 0.2em;color: black;border-radius: 0.25em;background-color: #f0f8ff;}#sk-container-id-1 input.sk-toggleable__control:checked~div.sk-toggleable__content {max-height: 200px;max-width: 100%;overflow: auto;}#sk-container-id-1 input.sk-toggleable__control:checked~label.sk-toggleable__label-arrow:before {content: \"▾\";}#sk-container-id-1 div.sk-estimator input.sk-toggleable__control:checked~label.sk-toggleable__label {background-color: #d4ebff;}#sk-container-id-1 div.sk-label input.sk-toggleable__control:checked~label.sk-toggleable__label {background-color: #d4ebff;}#sk-container-id-1 input.sk-hidden--visually {border: 0;clip: rect(1px 1px 1px 1px);clip: rect(1px, 1px, 1px, 1px);height: 1px;margin: -1px;overflow: hidden;padding: 0;position: absolute;width: 1px;}#sk-container-id-1 div.sk-estimator {font-family: monospace;background-color: #f0f8ff;border: 1px dotted black;border-radius: 0.25em;box-sizing: border-box;margin-bottom: 0.5em;}#sk-container-id-1 div.sk-estimator:hover {background-color: #d4ebff;}#sk-container-id-1 div.sk-parallel-item::after {content: \"\";width: 100%;border-bottom: 1px solid gray;flex-grow: 1;}#sk-container-id-1 div.sk-label:hover label.sk-toggleable__label {background-color: #d4ebff;}#sk-container-id-1 div.sk-serial::before {content: \"\";position: absolute;border-left: 1px solid gray;box-sizing: border-box;top: 0;bottom: 0;left: 50%;z-index: 0;}#sk-container-id-1 div.sk-serial {display: flex;flex-direction: column;align-items: center;background-color: white;padding-right: 0.2em;padding-left: 0.2em;position: relative;}#sk-container-id-1 div.sk-item {position: relative;z-index: 1;}#sk-container-id-1 div.sk-parallel {display: flex;align-items: stretch;justify-content: center;background-color: white;position: relative;}#sk-container-id-1 div.sk-item::before, #sk-container-id-1 div.sk-parallel-item::before {content: \"\";position: absolute;border-left: 1px solid gray;box-sizing: border-box;top: 0;bottom: 0;left: 50%;z-index: -1;}#sk-container-id-1 div.sk-parallel-item {display: flex;flex-direction: column;z-index: 1;position: relative;background-color: white;}#sk-container-id-1 div.sk-parallel-item:first-child::after {align-self: flex-end;width: 50%;}#sk-container-id-1 div.sk-parallel-item:last-child::after {align-self: flex-start;width: 50%;}#sk-container-id-1 div.sk-parallel-item:only-child::after {width: 0;}#sk-container-id-1 div.sk-dashed-wrapped {border: 1px dashed gray;margin: 0 0.4em 0.5em 0.4em;box-sizing: border-box;padding-bottom: 0.4em;background-color: white;}#sk-container-id-1 div.sk-label label {font-family: monospace;font-weight: bold;display: inline-block;line-height: 1.2em;}#sk-container-id-1 div.sk-label-container {text-align: center;}#sk-container-id-1 div.sk-container {/* jupyter's `normalize.less` sets `[hidden] { display: none; }` but bootstrap.min.css set `[hidden] { display: none !important; }` so we also need the `!important` here to be able to override the default hidden behavior on the sphinx rendered scikit-learn.org. See: https://github.com/scikit-learn/scikit-learn/issues/21755 */display: inline-block !important;position: relative;}#sk-container-id-1 div.sk-text-repr-fallback {display: none;}</style><div id=\"sk-container-id-1\" class=\"sk-top-container\"><div class=\"sk-text-repr-fallback\"><pre>MultinomialNB()</pre><b>In a Jupyter environment, please rerun this cell to show the HTML representation or trust the notebook. <br />On GitHub, the HTML representation is unable to render, please try loading this page with nbviewer.org.</b></div><div class=\"sk-container\" hidden><div class=\"sk-item\"><div class=\"sk-estimator sk-toggleable\"><input class=\"sk-toggleable__control sk-hidden--visually\" id=\"sk-estimator-id-1\" type=\"checkbox\" checked><label for=\"sk-estimator-id-1\" class=\"sk-toggleable__label sk-toggleable__label-arrow\">MultinomialNB</label><div class=\"sk-toggleable__content\"><pre>MultinomialNB()</pre></div></div></div></div></div>"
      ],
      "text/plain": [
       "MultinomialNB()"
      ]
     },
     "execution_count": 49,
     "metadata": {},
     "output_type": "execute_result"
    }
   ],
   "source": [
    "naive_bayes = MultinomialNB()\n",
    "naive_bayes.fit(X_train, y_train)"
   ]
  },
  {
   "cell_type": "markdown",
   "metadata": {},
   "source": [
    "Entrenamiento del Modelo: Ajusta el modelo utilizando el conjunto de entrenamiento.\n",
    "Paso Adicional (Opcional): Evaluación del Modelo\n",
    "Puedes evaluar el rendimiento del modelo utilizando métricas como precisión, recall, F1-score y matriz de confusión. Aquí te muestro cómo calcular la precisión del modelo:"
   ]
  },
  {
   "cell_type": "code",
   "execution_count": 50,
   "metadata": {},
   "outputs": [
    {
     "name": "stdout",
     "output_type": "stream",
     "text": [
      "Precisión del modelo: 0.86\n"
     ]
    }
   ],
   "source": [
    "y_pred = naive_bayes.predict(X_test)\n",
    "accuracy = accuracy_score(y_test, y_pred)\n",
    "\n",
    "print(f'Precisión del modelo: {accuracy:.2f}')"
   ]
  },
  {
   "cell_type": "markdown",
   "metadata": {},
   "source": [
    "**Evaluación y Interpretación del Modelo**"
   ]
  },
  {
   "cell_type": "markdown",
   "metadata": {},
   "source": [
    "Validación Cruzada: La validación cruzada es una técnica importante para evaluar el rendimiento del modelo de manera más robusta. Puedes realizar validación cruzada utilizando el siguiente código:"
   ]
  },
  {
   "cell_type": "code",
   "execution_count": 53,
   "metadata": {},
   "outputs": [
    {
     "name": "stdout",
     "output_type": "stream",
     "text": [
      "Puntajes de validación cruzada: [0.82608696 0.83516484 0.82417582 0.82417582 0.82417582]\n",
      "Promedio de puntajes: 0.8267558528428094\n"
     ]
    }
   ],
   "source": [
    "# Realiza validación cruzada con 5 particiones (folds)\n",
    "cross_val_scores = cross_val_score(naive_bayes, X, high_rating_reviews['rating'], cv=5)\n",
    "\n",
    "print(\"Puntajes de validación cruzada:\", cross_val_scores)\n",
    "print(\"Promedio de puntajes:\", cross_val_scores.mean())"
   ]
  },
  {
   "cell_type": "markdown",
   "metadata": {},
   "source": [
    "LogisticRegression proporciona coeficientes de características. Aquí tienes un ejemplo de cómo hacerlo:\n",
    "En este caso, utilizamos LogisticRegression para obtener las características más influyentes."
   ]
  },
  {
   "cell_type": "code",
   "execution_count": 57,
   "metadata": {},
   "outputs": [
    {
     "name": "stdout",
     "output_type": "stream",
     "text": [
      "Palabras más informativas (positivas): ['amazing', 'one', 'perfect', 'best', 'every', 'delicious', 'recommend', 'staff', 'server', 'dish']\n",
      "Palabras menos informativas (negativas): ['good', 'wasnt', 'bit', 'burger', 'lol', 'beer', 'something', 'cheese', 'star', 'could']\n"
     ]
    }
   ],
   "source": [
    "logreg = LogisticRegression(max_iter=1000)  # Crea un modelo de regresión logística\n",
    "logreg.fit(X_train, y_train)\n",
    "\n",
    "# Obtén las palabras más informativas para cada clase\n",
    "feature_names = tfidf_vectorizer.get_feature_names_out()\n",
    "\n",
    "# Obtén los coeficientes del modelo\n",
    "coef = logreg.coef_[0]\n",
    "\n",
    "# Obtén las palabras más informativas (positivas) y menos informativas (negativas)\n",
    "top_positive_words = [feature_names[i] for i in coef.argsort()[-10:][::-1]]\n",
    "top_negative_words = [feature_names[i] for i in coef.argsort()[:10]]\n",
    "\n",
    "print(\"Palabras más informativas (positivas):\", top_positive_words)\n",
    "print(\"Palabras menos informativas (negativas):\", top_negative_words)"
   ]
  },
  {
   "cell_type": "markdown",
   "metadata": {},
   "source": [
    "*En este código, estamos calculando las palabras más informativas (positivas) y menos informativas (negativas) utilizando los coeficientes del modelo de regresión logística. Esto te dará una idea de qué términos están más asociados con reseñas positivas y negativas.*"
   ]
  },
  {
   "cell_type": "markdown",
   "metadata": {},
   "source": [
    "**Generación de recomendaciones**"
   ]
  },
  {
   "cell_type": "markdown",
   "metadata": {},
   "source": [
    "Identificación de Patrones: Analiza las características comunes en las reseñas positivas para identificar patrones que los clientes aprecian en tu negocio. Puedes utilizar análisis de texto, visualización de palabras clave o incluso realizar análisis de sentimiento para comprender mejor las opiniones de los clientes."
   ]
  },
  {
   "cell_type": "code",
   "execution_count": 58,
   "metadata": {},
   "outputs": [
    {
     "name": "stdout",
     "output_type": "stream",
     "text": [
      "El patrón 'rápido servicio' aparece en 0 reseñas positivas.\n",
      "El patrón 'deliciosa comida' aparece en 0 reseñas positivas.\n",
      "El patrón 'ambiente acogedor' aparece en 0 reseñas positivas.\n",
      "El patrón 'amable personal' aparece en 0 reseñas positivas.\n"
     ]
    }
   ],
   "source": [
    "positive_reviews = high_rating_reviews[high_rating_reviews['rating'] >= 4]\n",
    "\n",
    "positive_keywords = ['rápido servicio', 'deliciosa comida', 'ambiente acogedor', 'amable personal']\n",
    "\n",
    "for keyword in positive_keywords:\n",
    "    keyword_count = positive_reviews['lemmatized_tokens'].apply(lambda tokens: keyword in tokens).sum()\n",
    "    print(f\"El patrón '{keyword}' aparece en {keyword_count} reseñas positivas.\")"
   ]
  },
  {
   "cell_type": "markdown",
   "metadata": {},
   "source": [
    "Recomendaciones: Basado en los patrones identificados, puedes generar recomendaciones para mejorar tu negocio. Por ejemplo, si notas que los clientes aprecian un \"rápido servicio\", podrías enfocarte en optimizar la velocidad de atención al cliente. Si encuentras que la \"deliciosa comida\" es un patrón común, podrías trabajar en mejorar la calidad y variedad de tus platillos.\n",
    "Las recomendaciones específicas dependerán de los patrones que identifiques en las reseñas positivas. Es importante escuchar a tus clientes y tomar acciones concretas para satisfacer sus expectativas.\n",
    "\n",
    "Además, si tienes suficientes reseñas positivas, también podrías utilizar técnicas de minería de texto y análisis de sentimiento para identificar temas y opiniones específicas que puedan influir en la satisfacción del cliente.\n",
    "\n",
    "Recuerda que la generación de recomendaciones es un proceso continuo. A medida que recibas más reseñas y retroalimentación de los clientes, podrás ajustar y mejorar constantemente tu negocio para satisfacer sus necesidades y expectativas.\n",
    "\n",
    "¡Con esto, has completado todos los pasos para tu proyecto de clasificación de texto! Si tienes más preguntas o necesitas más ayuda en el futuro, no dudes en preguntar. ¡Buena suerte con tu proyecto y tu negocio de comidas rápidas!"
   ]
  },
  {
   "cell_type": "code",
   "execution_count": null,
   "metadata": {},
   "outputs": [],
   "source": []
  },
  {
   "cell_type": "markdown",
   "metadata": {},
   "source": [
    "Si estás viendo que los patrones identificados no aparecen en ninguna reseña positiva, es posible que haya una discrepancia entre los patrones que estás buscando y las reseñas en tu conjunto de datos. Esto podría ser debido a varios motivos:\n",
    "\n",
    "Variabilidad de los Patrones: Los patrones específicos que estás buscando pueden no ser los más comunes en las reseñas positivas. Puede ser útil revisar un conjunto más amplio de reseñas para identificar patrones que se repitan con mayor frecuencia.\n",
    "\n",
    "Preprocesamiento de Texto: Es posible que el preprocesamiento de texto realizado anteriormente haya eliminado o modificado las palabras clave que estás buscando en las reseñas. Por ejemplo, si se realizaron eliminaciones excesivas o la lematización afectó las palabras clave, los patrones identificados podrían no coincidir con las reseñas reales.\n",
    "\n",
    "Variabilidad en el Lenguaje de los Usuarios: Las reseñas pueden contener variaciones en el lenguaje y las palabras utilizadas por los usuarios para expresar los mismos conceptos. Por ejemplo, algunos pueden decir \"servicio rápido\" en lugar de \"rápido servicio\". Es importante considerar diferentes formas de expresión al buscar patrones.\n",
    "\n",
    "Tamaño del Conjunto de Datos: Si el tamaño de tu conjunto de datos es pequeño, es posible que los patrones específicos que estás buscando simplemente no se encuentren en las reseñas proporcionadas.\n",
    "\n",
    "Si estás seguro de que estos patrones deberían estar presentes en las reseñas positivas y sigues sin encontrarlos, te recomiendo revisar nuevamente el preprocesamiento de texto para asegurarte de que las palabras clave no hayan sido eliminadas o modificadas de manera inadvertida. También puedes considerar la posibilidad de ajustar los patrones que estás buscando o expandir tu búsqueda a términos más generales que puedan estar relacionados con la satisfacción del cliente en las reseñas."
   ]
  },
  {
   "cell_type": "markdown",
   "metadata": {},
   "source": []
  },
  {
   "cell_type": "code",
   "execution_count": 60,
   "metadata": {},
   "outputs": [
    {
     "name": "stdout",
     "output_type": "stream",
     "text": [
      "Las frases más comunes en las reseñas positivas:\n",
      "'food': 313 veces\n",
      "'great': 218 veces\n",
      "'service': 182 veces\n",
      "'place': 160 veces\n",
      "'good': 152 veces\n",
      "'amazing': 145 veces\n",
      "'restaurant': 145 veces\n",
      "'experience': 134 veces\n",
      "'delicious': 132 veces\n",
      "'time': 116 veces\n"
     ]
    }
   ],
   "source": [
    "positive_reviews = high_rating_reviews[high_rating_reviews['rating'].between(4, 5)]\n",
    "\n",
    "positive_phrases = []\n",
    "\n",
    "for tokens in positive_reviews['lemmatized_tokens']:\n",
    "    positive_phrases.extend(tokens)\n",
    "\n",
    "phrase_counter = Counter(positive_phrases)\n",
    "\n",
    "# Obtén las 10 frases más comunes en las reseñas positivas\n",
    "top_positive_phrases = phrase_counter.most_common(10)\n",
    "\n",
    "print(\"Las frases más comunes en las reseñas positivas:\")\n",
    "for phrase, count in top_positive_phrases:\n",
    "    print(f\"'{phrase}': {count} veces\")"
   ]
  },
  {
   "cell_type": "code",
   "execution_count": 63,
   "metadata": {},
   "outputs": [
    {
     "name": "stdout",
     "output_type": "stream",
     "text": [
      "Frases más comunes en las reseñas positivas:\n",
      "amazing food\n",
      "cant wait\n",
      "come back\n",
      "definitely back\n",
      "dining experience\n",
      "first time\n",
      "food amazing\n",
      "food delicious\n",
      "food drink\n",
      "food good\n",
      "food great\n",
      "food service\n",
      "great experience\n",
      "great food\n",
      "great service\n",
      "happy hour\n",
      "highly recommend\n",
      "ive ever\n",
      "one best\n",
      "service great\n"
     ]
    }
   ],
   "source": [
    "from sklearn.feature_extraction.text import CountVectorizer\n",
    "\n",
    "positive_reviews = high_rating_reviews[high_rating_reviews['rating'].between(4, 5)]\n",
    "\n",
    "ngram_vectorizer = CountVectorizer(ngram_range=(2, 4), max_features=20)  # Ajusta el rango y la cantidad de características según tus necesidades\n",
    "\n",
    "X_ngrams = ngram_vectorizer.fit_transform(positive_reviews['lemmatized_tokens'].apply(lambda tokens: ' '.join(tokens)))\n",
    "\n",
    "ngram_features = ngram_vectorizer.get_feature_names_out()\n",
    "\n",
    "print(\"Frases más comunes en las reseñas positivas:\")\n",
    "for feature in ngram_features:\n",
    "    print(feature)"
   ]
  },
  {
   "cell_type": "code",
   "execution_count": null,
   "metadata": {},
   "outputs": [],
   "source": []
  },
  {
   "cell_type": "code",
   "execution_count": null,
   "metadata": {},
   "outputs": [],
   "source": []
  },
  {
   "cell_type": "code",
   "execution_count": null,
   "metadata": {},
   "outputs": [],
   "source": []
  },
  {
   "cell_type": "code",
   "execution_count": 64,
   "metadata": {},
   "outputs": [
    {
     "name": "stdout",
     "output_type": "stream",
     "text": [
      "Frases más comunes en las reseñas positivas:\n",
      "amazing food\n",
      "date night\n",
      "delicious food\n",
      "dining experience\n",
      "fine dining\n",
      "food amazing\n",
      "food delicious\n",
      "food drink\n",
      "food good\n",
      "food great\n",
      "food service\n",
      "friendly staff\n",
      "great atmosphere\n",
      "great experience\n",
      "great food\n",
      "great service\n",
      "happy hour\n",
      "hidden gem\n",
      "highly recommend\n",
      "service great\n"
     ]
    }
   ],
   "source": [
    "from sklearn.feature_extraction.text import CountVectorizer\n",
    "\n",
    "positive_reviews = high_rating_reviews[high_rating_reviews['rating'].between(4, 5)]\n",
    "\n",
    "ngram_vectorizer = CountVectorizer(ngram_range=(2, 3), max_features=20, stop_words='english')  \n",
    "\n",
    "X_ngrams = ngram_vectorizer.fit_transform(positive_reviews['lemmatized_tokens'].apply(lambda tokens: ' '.join(tokens)))\n",
    "\n",
    "ngram_features = ngram_vectorizer.get_feature_names_out()\n",
    "\n",
    "print(\"Frases más comunes en las reseñas positivas:\")\n",
    "for feature in ngram_features:\n",
    "    print(feature)"
   ]
  },
  {
   "cell_type": "code",
   "execution_count": 65,
   "metadata": {},
   "outputs": [
    {
     "name": "stdout",
     "output_type": "stream",
     "text": [
      "Frases más comunes en las reseñas positivas:\n",
      "'amazing food': 1 veces\n",
      "'date night': 1 veces\n",
      "'delicious food': 1 veces\n",
      "'dining experience': 1 veces\n",
      "'fine dining': 1 veces\n",
      "'food amazing': 1 veces\n",
      "'food delicious': 1 veces\n",
      "'food drink': 1 veces\n",
      "'food good': 1 veces\n",
      "'food great': 1 veces\n",
      "'food service': 1 veces\n",
      "'friendly staff': 1 veces\n",
      "'great atmosphere': 1 veces\n",
      "'great experience': 1 veces\n",
      "'great food': 1 veces\n",
      "'great service': 1 veces\n",
      "'happy hour': 1 veces\n",
      "'hidden gem': 1 veces\n",
      "'highly recommend': 1 veces\n",
      "'service great': 1 veces\n"
     ]
    }
   ],
   "source": [
    "from sklearn.feature_extraction.text import CountVectorizer\n",
    "from collections import defaultdict\n",
    "\n",
    "positive_reviews = high_rating_reviews[high_rating_reviews['rating'].between(4, 5)]\n",
    "\n",
    "ngram_vectorizer = CountVectorizer(ngram_range=(2, 3), max_features=20, stop_words='english')  \n",
    "\n",
    "X_ngrams = ngram_vectorizer.fit_transform(positive_reviews['lemmatized_tokens'].apply(lambda tokens: ' '.join(tokens)))\n",
    "\n",
    "ngram_features = ngram_vectorizer.get_feature_names_out()\n",
    "\n",
    "# Crear un diccionario para combinar n-gramas similares\n",
    "combined_ngrams = defaultdict(int)\n",
    "for feature in ngram_features:\n",
    "    words = feature.split()\n",
    "    if len(words) > 1:\n",
    "        combined_ngrams[' '.join(words)] += 1\n",
    "\n",
    "print(\"Frases más comunes en las reseñas positivas:\")\n",
    "for phrase, count in combined_ngrams.items():\n",
    "    print(f\"'{phrase}': {count} veces\")"
   ]
  },
  {
   "cell_type": "code",
   "execution_count": null,
   "metadata": {},
   "outputs": [],
   "source": []
  }
 ],
 "metadata": {
  "kernelspec": {
   "display_name": "Python 3",
   "language": "python",
   "name": "python3"
  },
  "language_info": {
   "codemirror_mode": {
    "name": "ipython",
    "version": 3
   },
   "file_extension": ".py",
   "mimetype": "text/x-python",
   "name": "python",
   "nbconvert_exporter": "python",
   "pygments_lexer": "ipython3",
   "version": "3.10.11"
  },
  "orig_nbformat": 4
 },
 "nbformat": 4,
 "nbformat_minor": 2
}
